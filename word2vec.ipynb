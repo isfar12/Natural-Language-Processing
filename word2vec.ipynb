{
 "cells": [
  {
   "cell_type": "code",
   "execution_count": 54,
   "id": "d80c07c9",
   "metadata": {},
   "outputs": [],
   "source": [
    "import pandas as pd"
   ]
  },
  {
   "cell_type": "code",
   "execution_count": 55,
   "id": "33a7d62e",
   "metadata": {},
   "outputs": [],
   "source": [
    "df=pd.read_csv(\"Dataset/True News.csv\")"
   ]
  },
  {
   "cell_type": "code",
   "execution_count": 56,
   "id": "a36bd8e4",
   "metadata": {},
   "outputs": [
    {
     "data": {
      "text/html": [
       "<div>\n",
       "<style scoped>\n",
       "    .dataframe tbody tr th:only-of-type {\n",
       "        vertical-align: middle;\n",
       "    }\n",
       "\n",
       "    .dataframe tbody tr th {\n",
       "        vertical-align: top;\n",
       "    }\n",
       "\n",
       "    .dataframe thead th {\n",
       "        text-align: right;\n",
       "    }\n",
       "</style>\n",
       "<table border=\"1\" class=\"dataframe\">\n",
       "  <thead>\n",
       "    <tr style=\"text-align: right;\">\n",
       "      <th></th>\n",
       "      <th>title</th>\n",
       "      <th>text</th>\n",
       "      <th>subject</th>\n",
       "      <th>date</th>\n",
       "    </tr>\n",
       "  </thead>\n",
       "  <tbody>\n",
       "    <tr>\n",
       "      <th>0</th>\n",
       "      <td>As U.S. budget fight looms, Republicans flip t...</td>\n",
       "      <td>WASHINGTON (Reuters) - The head of a conservat...</td>\n",
       "      <td>politicsNews</td>\n",
       "      <td>December 31, 2017</td>\n",
       "    </tr>\n",
       "    <tr>\n",
       "      <th>1</th>\n",
       "      <td>U.S. military to accept transgender recruits o...</td>\n",
       "      <td>WASHINGTON (Reuters) - Transgender people will...</td>\n",
       "      <td>politicsNews</td>\n",
       "      <td>December 29, 2017</td>\n",
       "    </tr>\n",
       "    <tr>\n",
       "      <th>2</th>\n",
       "      <td>Senior U.S. Republican senator: 'Let Mr. Muell...</td>\n",
       "      <td>WASHINGTON (Reuters) - The special counsel inv...</td>\n",
       "      <td>politicsNews</td>\n",
       "      <td>December 31, 2017</td>\n",
       "    </tr>\n",
       "    <tr>\n",
       "      <th>3</th>\n",
       "      <td>FBI Russia probe helped by Australian diplomat...</td>\n",
       "      <td>WASHINGTON (Reuters) - Trump campaign adviser ...</td>\n",
       "      <td>politicsNews</td>\n",
       "      <td>December 30, 2017</td>\n",
       "    </tr>\n",
       "    <tr>\n",
       "      <th>4</th>\n",
       "      <td>Trump wants Postal Service to charge 'much mor...</td>\n",
       "      <td>SEATTLE/WASHINGTON (Reuters) - President Donal...</td>\n",
       "      <td>politicsNews</td>\n",
       "      <td>December 29, 2017</td>\n",
       "    </tr>\n",
       "  </tbody>\n",
       "</table>\n",
       "</div>"
      ],
      "text/plain": [
       "                                               title  \\\n",
       "0  As U.S. budget fight looms, Republicans flip t...   \n",
       "1  U.S. military to accept transgender recruits o...   \n",
       "2  Senior U.S. Republican senator: 'Let Mr. Muell...   \n",
       "3  FBI Russia probe helped by Australian diplomat...   \n",
       "4  Trump wants Postal Service to charge 'much mor...   \n",
       "\n",
       "                                                text       subject  \\\n",
       "0  WASHINGTON (Reuters) - The head of a conservat...  politicsNews   \n",
       "1  WASHINGTON (Reuters) - Transgender people will...  politicsNews   \n",
       "2  WASHINGTON (Reuters) - The special counsel inv...  politicsNews   \n",
       "3  WASHINGTON (Reuters) - Trump campaign adviser ...  politicsNews   \n",
       "4  SEATTLE/WASHINGTON (Reuters) - President Donal...  politicsNews   \n",
       "\n",
       "                 date  \n",
       "0  December 31, 2017   \n",
       "1  December 29, 2017   \n",
       "2  December 31, 2017   \n",
       "3  December 30, 2017   \n",
       "4  December 29, 2017   "
      ]
     },
     "execution_count": 56,
     "metadata": {},
     "output_type": "execute_result"
    }
   ],
   "source": [
    "df.head()"
   ]
  },
  {
   "cell_type": "code",
   "execution_count": 57,
   "id": "d3b4a511",
   "metadata": {},
   "outputs": [
    {
     "data": {
      "text/plain": [
       "'WASHINGTON (Reuters) - Transgender people will be allowed for the first time to enlist in the U.S. military starting on Monday as ordered by federal courts, the Pentagon said on Friday, after President Donald Trump’s administration decided not to appeal rulings that blocked his transgender ban. Two federal appeals courts, one in Washington and one in Virginia, last week rejected the administration’s request to put on hold orders by lower court judges requiring the military to begin accepting transgender recruits on Jan. 1. A Justice Department official said the administration will not challenge those rulings. “The Department of Defense has announced that it will be releasing an independent study of these issues in the coming weeks. So rather than litigate this interim appeal before that occurs, the administration has decided to wait for DOD’s study and will continue to defend the president’s lawful authority in District Court in the meantime,” the official said, speaking on condition of anonymity. In September, the Pentagon said it had created a panel of senior officials to study how to implement a directive by Trump to prohibit transgender individuals from serving. The Defense Department has until Feb. 21 to submit a plan to Trump. Lawyers representing currently-serving transgender service members and aspiring recruits said they had expected the administration to appeal the rulings to the conservative-majority Supreme Court, but were hoping that would not happen. Pentagon spokeswoman Heather Babb said in a statement: “As mandated by court order, the Department of Defense is prepared to begin accessing transgender applicants for military service Jan. 1. All applicants must meet all accession standards.” Jennifer Levi, a lawyer with gay, lesbian and transgender advocacy group GLAD, called the decision not to appeal “great news.” “I’m hoping it means the government has come to see that there is no way to justify a ban and that it’s not good for the military or our country,” Levi said. Both GLAD and the American Civil Liberties Union represent plaintiffs in the lawsuits filed against the administration. In a move that appealed to his hard-line conservative supporters, Trump announced in July that he would prohibit transgender people from serving in the military, reversing Democratic President Barack Obama’s policy of accepting them. Trump said on Twitter at the time that the military “cannot be burdened with the tremendous medical costs and disruption that transgender in the military would entail.” Four federal judges - in Baltimore, Washington, D.C., Seattle and Riverside, California - have issued rulings blocking Trump’s ban while legal challenges to the Republican president’s policy proceed. The judges said the ban would likely violate the right under the U.S. Constitution to equal protection under the law. The Pentagon on Dec. 8 issued guidelines to recruitment personnel in order to enlist transgender applicants by Jan. 1. The memo outlined medical requirements and specified how the applicants’ sex would be identified and even which undergarments they would wear. The Trump administration previously said in legal papers that the armed forces were not prepared to train thousands of personnel on the medical standards needed to process transgender applicants and might have to accept “some individuals who are not medically fit for service.” The Obama administration had set a deadline of July 1, 2017, to begin accepting transgender recruits. But Trump’s defense secretary, James Mattis, postponed that date to Jan. 1, 2018, which the president’s ban then put off indefinitely. Trump has taken other steps aimed at rolling back transgender rights. In October, his administration said a federal law banning gender-based workplace discrimination does not protect transgender employees, reversing another Obama-era position. In February, Trump rescinded guidance issued by the Obama administration saying that public schools should allow transgender students to use the restroom that corresponds to their gender identity. '"
      ]
     },
     "execution_count": 57,
     "metadata": {},
     "output_type": "execute_result"
    }
   ],
   "source": [
    "df[\"text\"][1]"
   ]
  },
  {
   "cell_type": "code",
   "execution_count": 58,
   "id": "a35b3460",
   "metadata": {},
   "outputs": [],
   "source": [
    "import gensim\n",
    "import os\n",
    "from gensim.utils import simple_preprocess\n",
    "from nltk.corpus import stopwords"
   ]
  },
  {
   "cell_type": "code",
   "execution_count": 59,
   "id": "42d97a69",
   "metadata": {},
   "outputs": [],
   "source": [
    "stop_words = set(stopwords.words('english'))\n",
    "\n",
    "def preprocess_and_remove_stopwords(text):\n",
    "    tokens = simple_preprocess(text)  # tokenizes, lowercases, removes punctuations\n",
    "    filtered_tokens = [word for word in tokens if word not in stop_words]\n",
    "    return filtered_tokens\n",
    "\n",
    "\n",
    "df['text'] = df['text'].apply(preprocess_and_remove_stopwords)\n"
   ]
  },
  {
   "cell_type": "code",
   "execution_count": 60,
   "id": "923374e4",
   "metadata": {},
   "outputs": [],
   "source": [
    "from gensim.models import Word2Vec\n",
    "\n",
    "model=Word2Vec(\n",
    "    window=30,\n",
    "    min_count=6,\n",
    "    workers=3\n",
    ")\n",
    "\n",
    "model.build_vocab(df[\"text\"])"
   ]
  },
  {
   "cell_type": "code",
   "execution_count": 61,
   "id": "d619d800",
   "metadata": {},
   "outputs": [
    {
     "data": {
      "text/plain": [
       "(23027594, 24299620)"
      ]
     },
     "execution_count": 61,
     "metadata": {},
     "output_type": "execute_result"
    }
   ],
   "source": [
    "model.train(df[\"text\"],total_examples=model.corpus_count,epochs=model.epochs)"
   ]
  },
  {
   "cell_type": "code",
   "execution_count": 62,
   "id": "d0f57411",
   "metadata": {},
   "outputs": [
    {
     "data": {
      "text/plain": [
       "['seattle',\n",
       " 'washington',\n",
       " 'reuters',\n",
       " 'president',\n",
       " 'donald',\n",
       " 'trump',\n",
       " 'called',\n",
       " 'postal',\n",
       " 'service',\n",
       " 'friday',\n",
       " 'charge',\n",
       " 'much',\n",
       " 'ship',\n",
       " 'packages',\n",
       " 'amazon',\n",
       " 'amzn',\n",
       " 'picking',\n",
       " 'another',\n",
       " 'fight',\n",
       " 'online',\n",
       " 'retail',\n",
       " 'giant',\n",
       " 'criticized',\n",
       " 'past',\n",
       " 'united',\n",
       " 'states',\n",
       " 'post',\n",
       " 'office',\n",
       " 'losing',\n",
       " 'many',\n",
       " 'billions',\n",
       " 'dollars',\n",
       " 'year',\n",
       " 'charging',\n",
       " 'amazon',\n",
       " 'others',\n",
       " 'little',\n",
       " 'deliver',\n",
       " 'packages',\n",
       " 'making',\n",
       " 'amazon',\n",
       " 'richer',\n",
       " 'post',\n",
       " 'office',\n",
       " 'dumber',\n",
       " 'poorer',\n",
       " 'charging',\n",
       " 'much',\n",
       " 'trump',\n",
       " 'wrote',\n",
       " 'twitter',\n",
       " 'president',\n",
       " 'tweet',\n",
       " 'drew',\n",
       " 'fresh',\n",
       " 'attention',\n",
       " 'fragile',\n",
       " 'finances',\n",
       " 'postal',\n",
       " 'service',\n",
       " 'time',\n",
       " 'tens',\n",
       " 'millions',\n",
       " 'parcels',\n",
       " 'shipped',\n",
       " 'country',\n",
       " 'holiday',\n",
       " 'season',\n",
       " 'postal',\n",
       " 'service',\n",
       " 'runs',\n",
       " 'big',\n",
       " 'loss',\n",
       " 'independent',\n",
       " 'agency',\n",
       " 'within',\n",
       " 'federal',\n",
       " 'government',\n",
       " 'receive',\n",
       " 'tax',\n",
       " 'dollars',\n",
       " 'operating',\n",
       " 'expenses',\n",
       " 'according',\n",
       " 'website',\n",
       " 'package',\n",
       " 'delivery',\n",
       " 'become',\n",
       " 'increasingly',\n",
       " 'important',\n",
       " 'part',\n",
       " 'business',\n",
       " 'internet',\n",
       " 'led',\n",
       " 'sharp',\n",
       " 'decline',\n",
       " 'amount',\n",
       " 'first',\n",
       " 'class',\n",
       " 'letters',\n",
       " 'president',\n",
       " 'determine',\n",
       " 'postal',\n",
       " 'rates',\n",
       " 'set',\n",
       " 'postal',\n",
       " 'regulatory',\n",
       " 'commission',\n",
       " 'independent',\n",
       " 'government',\n",
       " 'agency',\n",
       " 'commissioners',\n",
       " 'selected',\n",
       " 'president',\n",
       " 'political',\n",
       " 'parties',\n",
       " 'panel',\n",
       " 'raised',\n",
       " 'prices',\n",
       " 'packages',\n",
       " 'almost',\n",
       " 'percent',\n",
       " 'november',\n",
       " 'amazon',\n",
       " 'founded',\n",
       " 'jeff',\n",
       " 'bezos',\n",
       " 'remains',\n",
       " 'chief',\n",
       " 'executive',\n",
       " 'officer',\n",
       " 'retail',\n",
       " 'company',\n",
       " 'richest',\n",
       " 'person',\n",
       " 'world',\n",
       " 'according',\n",
       " 'bloomberg',\n",
       " 'news',\n",
       " 'bezos',\n",
       " 'also',\n",
       " 'owns',\n",
       " 'washington',\n",
       " 'post',\n",
       " 'newspaper',\n",
       " 'trump',\n",
       " 'repeatedly',\n",
       " 'railed',\n",
       " 'criticisms',\n",
       " 'news',\n",
       " 'media',\n",
       " 'tweets',\n",
       " 'past',\n",
       " 'year',\n",
       " 'trump',\n",
       " 'said',\n",
       " 'amazon',\n",
       " 'washington',\n",
       " 'post',\n",
       " 'fabricated',\n",
       " 'stories',\n",
       " 'said',\n",
       " 'amazon',\n",
       " 'pay',\n",
       " 'sales',\n",
       " 'tax',\n",
       " 'true',\n",
       " 'hurts',\n",
       " 'retailers',\n",
       " 'part',\n",
       " 'pattern',\n",
       " 'former',\n",
       " 'businessman',\n",
       " 'reality',\n",
       " 'television',\n",
       " 'host',\n",
       " 'periodically',\n",
       " 'turning',\n",
       " 'ire',\n",
       " 'big',\n",
       " 'american',\n",
       " 'companies',\n",
       " 'since',\n",
       " 'took',\n",
       " 'office',\n",
       " 'january',\n",
       " 'daniel',\n",
       " 'ives',\n",
       " 'research',\n",
       " 'analyst',\n",
       " 'gbh',\n",
       " 'insights',\n",
       " 'said',\n",
       " 'trump',\n",
       " 'comment',\n",
       " 'could',\n",
       " 'taken',\n",
       " 'warning',\n",
       " 'retail',\n",
       " 'giant',\n",
       " 'however',\n",
       " 'said',\n",
       " 'concerned',\n",
       " 'amazon',\n",
       " 'see',\n",
       " 'price',\n",
       " 'hikes',\n",
       " 'future',\n",
       " 'however',\n",
       " 'risk',\n",
       " 'amazon',\n",
       " 'clearly',\n",
       " 'aware',\n",
       " 'building',\n",
       " 'distribution',\n",
       " 'system',\n",
       " 'aggressively',\n",
       " 'said',\n",
       " 'amazon',\n",
       " 'shown',\n",
       " 'interest',\n",
       " 'past',\n",
       " 'shifting',\n",
       " 'delivery',\n",
       " 'service',\n",
       " 'including',\n",
       " 'testing',\n",
       " 'drones',\n",
       " 'deliveries',\n",
       " 'company',\n",
       " 'spent',\n",
       " 'billion',\n",
       " 'shipping',\n",
       " 'percent',\n",
       " 'total',\n",
       " 'operating',\n",
       " 'expenses',\n",
       " 'year',\n",
       " 'amazon',\n",
       " 'shares',\n",
       " 'percent',\n",
       " 'early',\n",
       " 'afternoon',\n",
       " 'overall',\n",
       " 'stock',\n",
       " 'prices',\n",
       " 'slightly',\n",
       " 'friday',\n",
       " 'satish',\n",
       " 'jindel',\n",
       " 'president',\n",
       " 'shipmatrix',\n",
       " 'inc',\n",
       " 'analyzes',\n",
       " 'shipping',\n",
       " 'data',\n",
       " 'disputed',\n",
       " 'idea',\n",
       " 'postal',\n",
       " 'service',\n",
       " 'charges',\n",
       " 'less',\n",
       " 'united',\n",
       " 'parcel',\n",
       " 'service',\n",
       " 'inc',\n",
       " 'ups',\n",
       " 'fedex',\n",
       " 'corp',\n",
       " 'fdx',\n",
       " 'biggest',\n",
       " 'players',\n",
       " 'parcel',\n",
       " 'delivery',\n",
       " 'business',\n",
       " 'united',\n",
       " 'states',\n",
       " 'many',\n",
       " 'customers',\n",
       " 'get',\n",
       " 'lower',\n",
       " 'rates',\n",
       " 'ups',\n",
       " 'fedex',\n",
       " 'would',\n",
       " 'get',\n",
       " 'post',\n",
       " 'office',\n",
       " 'comparable',\n",
       " 'services',\n",
       " 'said',\n",
       " 'postal',\n",
       " 'service',\n",
       " 'delivers',\n",
       " 'percent',\n",
       " 'amazon',\n",
       " 'packages',\n",
       " 'million',\n",
       " 'day',\n",
       " 'current',\n",
       " 'peak',\n",
       " 'year',\n",
       " 'end',\n",
       " 'holiday',\n",
       " 'shipping',\n",
       " 'season',\n",
       " 'jindel',\n",
       " 'said',\n",
       " 'seattle',\n",
       " 'based',\n",
       " 'company',\n",
       " 'post',\n",
       " 'office',\n",
       " 'agreement',\n",
       " 'mail',\n",
       " 'carriers',\n",
       " 'take',\n",
       " 'amazon',\n",
       " 'packages',\n",
       " 'last',\n",
       " 'leg',\n",
       " 'journeys',\n",
       " 'post',\n",
       " 'offices',\n",
       " 'customers',\n",
       " 'doorsteps',\n",
       " 'amazon',\n",
       " 'carrier',\n",
       " 'ups',\n",
       " 'percent',\n",
       " 'fedex',\n",
       " 'third',\n",
       " 'percent',\n",
       " 'according',\n",
       " 'jindel',\n",
       " 'trump',\n",
       " 'comment',\n",
       " 'tapped',\n",
       " 'debate',\n",
       " 'whether',\n",
       " 'postal',\n",
       " 'service',\n",
       " 'pricing',\n",
       " 'kept',\n",
       " 'pace',\n",
       " 'rise',\n",
       " 'commerce',\n",
       " 'flooded',\n",
       " 'mail',\n",
       " 'small',\n",
       " 'packages',\n",
       " 'private',\n",
       " 'companies',\n",
       " 'like',\n",
       " 'ups',\n",
       " 'long',\n",
       " 'claimed',\n",
       " 'current',\n",
       " 'system',\n",
       " 'unfairly',\n",
       " 'undercuts',\n",
       " 'business',\n",
       " 'steve',\n",
       " 'gaut',\n",
       " 'spokesman',\n",
       " 'ups',\n",
       " 'noted',\n",
       " 'company',\n",
       " 'values',\n",
       " 'productive',\n",
       " 'relationship',\n",
       " 'postal',\n",
       " 'service',\n",
       " 'filed',\n",
       " 'postal',\n",
       " 'regulatory',\n",
       " 'commission',\n",
       " 'concerns',\n",
       " 'postal',\n",
       " 'service',\n",
       " 'methods',\n",
       " 'covering',\n",
       " 'costs',\n",
       " 'representatives',\n",
       " 'amazon',\n",
       " 'white',\n",
       " 'house',\n",
       " 'postal',\n",
       " 'service',\n",
       " 'fedex',\n",
       " 'declined',\n",
       " 'comment',\n",
       " 'immediately',\n",
       " 'available',\n",
       " 'comment',\n",
       " 'trump',\n",
       " 'tweet',\n",
       " 'according',\n",
       " 'annual',\n",
       " 'report',\n",
       " 'postal',\n",
       " 'service',\n",
       " 'lost',\n",
       " 'billion',\n",
       " 'year',\n",
       " 'deficit',\n",
       " 'ballooned',\n",
       " 'billion',\n",
       " 'postal',\n",
       " 'service',\n",
       " 'revenue',\n",
       " 'first',\n",
       " 'class',\n",
       " 'mail',\n",
       " 'marketing',\n",
       " 'mail',\n",
       " 'periodicals',\n",
       " 'flat',\n",
       " 'declining',\n",
       " 'revenue',\n",
       " 'package',\n",
       " 'delivery',\n",
       " 'percent',\n",
       " 'since',\n",
       " 'billion',\n",
       " 'fiscal',\n",
       " 'year',\n",
       " 'ended',\n",
       " 'sept',\n",
       " 'also',\n",
       " 'lost',\n",
       " 'billion',\n",
       " 'revenue',\n",
       " 'temporary',\n",
       " 'surcharge',\n",
       " 'expired',\n",
       " 'april',\n",
       " 'according',\n",
       " 'government',\n",
       " 'accountability',\n",
       " 'office',\n",
       " 'report',\n",
       " 'february',\n",
       " 'service',\n",
       " 'facing',\n",
       " 'growing',\n",
       " 'personnel',\n",
       " 'expenses',\n",
       " 'particularly',\n",
       " 'billion',\n",
       " 'unfunded',\n",
       " 'pension',\n",
       " 'benefits',\n",
       " 'liabilities',\n",
       " 'postal',\n",
       " 'service',\n",
       " 'announced',\n",
       " 'plans',\n",
       " 'cut',\n",
       " 'costs',\n",
       " 'law',\n",
       " 'postal',\n",
       " 'service',\n",
       " 'set',\n",
       " 'prices',\n",
       " 'package',\n",
       " 'delivery',\n",
       " 'cover',\n",
       " 'costs',\n",
       " 'attributable',\n",
       " 'service',\n",
       " 'postal',\n",
       " 'service',\n",
       " 'allocates',\n",
       " 'percent',\n",
       " 'total',\n",
       " 'costs',\n",
       " 'business',\n",
       " 'shipping',\n",
       " 'packages',\n",
       " 'even',\n",
       " 'though',\n",
       " 'line',\n",
       " 'business',\n",
       " 'percent',\n",
       " 'total',\n",
       " 'revenue']"
      ]
     },
     "execution_count": 62,
     "metadata": {},
     "output_type": "execute_result"
    }
   ],
   "source": [
    "df[\"text\"][4]"
   ]
  },
  {
   "cell_type": "code",
   "execution_count": 63,
   "id": "c0a884b8",
   "metadata": {},
   "outputs": [
    {
     "data": {
      "text/plain": [
       "[('presumptive', 0.5149328708648682),\n",
       " ('romney', 0.4867163598537445),\n",
       " ('pledge', 0.4727424085140228),\n",
       " ('candidacy', 0.4418635368347168),\n",
       " ('endorsement', 0.4350750744342804),\n",
       " ('cruz', 0.43049731850624084),\n",
       " ('tone', 0.422220379114151),\n",
       " ('beholden', 0.4197624623775482),\n",
       " ('combative', 0.4190300405025482),\n",
       " ('stick', 0.41652318835258484)]"
      ]
     },
     "execution_count": 63,
     "metadata": {},
     "output_type": "execute_result"
    }
   ],
   "source": [
    "model.wv.most_similar(\"trump\")"
   ]
  },
  {
   "cell_type": "code",
   "execution_count": 64,
   "id": "0a7e1561",
   "metadata": {},
   "outputs": [
    {
     "data": {
      "text/plain": [
       "array([ 1.0258751 ,  2.4331944 ,  0.05209824,  5.000322  , -2.8780868 ,\n",
       "       -0.83776885, -5.063645  , -3.2490861 , -5.498543  ,  4.017648  ,\n",
       "       -2.7464108 , -1.4453673 ,  1.092345  ,  2.0265272 , -6.0588584 ,\n",
       "        3.1657066 , -1.3438559 ,  3.4554884 , -5.3593044 , -1.8873651 ,\n",
       "        3.6372778 , -0.35323742, -5.5901194 , -3.1473956 ,  6.333481  ,\n",
       "        1.3810955 , -3.5460448 ,  3.2332613 , -0.855788  ,  7.8383765 ,\n",
       "       -4.0134172 ,  0.82182354,  0.55667603, -5.2520995 , -1.487396  ,\n",
       "        0.5689382 ,  2.9643266 ,  3.2469869 ,  3.2719667 , -1.5381187 ,\n",
       "        3.6023529 , -1.6922239 ,  2.5310316 , -0.70146585, -0.33462527,\n",
       "        1.6669894 ,  3.7444603 , -3.854045  , -1.9979194 , -2.2549772 ,\n",
       "        1.6339058 ,  0.29930496, -2.5858014 ,  5.4016247 , -0.25980383,\n",
       "       -2.1796272 , -0.9125239 , -0.07162274, -1.2322149 ,  0.48453462,\n",
       "       -4.2124233 , -1.2254417 ,  7.0544615 , -1.8003995 ,  2.4256594 ,\n",
       "       -1.2575967 ,  6.0985007 ,  2.2289503 ,  0.6614651 ,  2.2016935 ,\n",
       "       -0.34316376, -2.1141677 ,  0.37818447, -0.9559601 ,  0.72503704,\n",
       "       -1.7675929 , -2.0211377 , -2.0016217 ,  3.8660445 , -3.5495324 ,\n",
       "       -0.44853267,  2.8454297 , -0.51080203,  1.473665  , -0.9577293 ,\n",
       "       -0.36400044,  3.0527542 , -2.1237032 ,  0.63740647, -1.0914885 ,\n",
       "        2.5935724 , -0.61150724, -0.8739262 ,  0.10700396, -4.015015  ,\n",
       "        0.66578525, -0.9079313 ,  2.0350034 ,  2.3032134 , -0.9797548 ],\n",
       "      dtype=float32)"
      ]
     },
     "execution_count": 64,
     "metadata": {},
     "output_type": "execute_result"
    }
   ],
   "source": [
    "model.wv[\"trump\"]"
   ]
  },
  {
   "cell_type": "code",
   "execution_count": 71,
   "id": "7592b19b",
   "metadata": {},
   "outputs": [
    {
     "data": {
      "text/plain": [
       "0.20656745"
      ]
     },
     "execution_count": 71,
     "metadata": {},
     "output_type": "execute_result"
    }
   ],
   "source": [
    "model.wv.similarity(\"trump\",\"president\")"
   ]
  },
  {
   "cell_type": "code",
   "execution_count": 66,
   "id": "32dd9505",
   "metadata": {},
   "outputs": [],
   "source": [
    "y=model.wv.index_to_key"
   ]
  },
  {
   "cell_type": "code",
   "execution_count": 67,
   "id": "e33ac68a",
   "metadata": {},
   "outputs": [
    {
     "data": {
      "text/plain": [
       "'rights'"
      ]
     },
     "execution_count": 67,
     "metadata": {},
     "output_type": "execute_result"
    }
   ],
   "source": [
    "y[100]"
   ]
  },
  {
   "cell_type": "code",
   "execution_count": 68,
   "id": "3e74d2be",
   "metadata": {},
   "outputs": [],
   "source": [
    "from sklearn.decomposition import PCA\n",
    "\n",
    "pca=PCA(n_components=3)\n",
    "X=pca.fit_transform(model.wv.get_normed_vectors())"
   ]
  },
  {
   "cell_type": "code",
   "execution_count": 69,
   "id": "4784234d",
   "metadata": {},
   "outputs": [
    {
     "data": {
      "text/plain": [
       "(25329, 3)"
      ]
     },
     "execution_count": 69,
     "metadata": {},
     "output_type": "execute_result"
    }
   ],
   "source": [
    "X.shape"
   ]
  },
  {
   "cell_type": "code",
   "execution_count": 70,
   "id": "93d34f3b",
   "metadata": {},
   "outputs": [
    {
     "data": {
      "application/vnd.plotly.v1+json": {
       "config": {
        "plotlyServerURL": "https://plot.ly"
       },
       "data": [
        {
         "hovertemplate": "color=said<br>0=%{x}<br>1=%{y}<br>2=%{z}<extra></extra>",
         "legendgroup": "said",
         "marker": {
          "color": "#636efa",
          "symbol": "circle"
         },
         "mode": "markers",
         "name": "said",
         "scene": "scene",
         "showlegend": true,
         "type": "scatter3d",
         "x": {
          "bdata": "GGyXPg==",
          "dtype": "f4"
         },
         "y": {
          "bdata": "BsPDPQ==",
          "dtype": "f4"
         },
         "z": {
          "bdata": "WIguvA==",
          "dtype": "f4"
         }
        },
        {
         "hovertemplate": "color=trump<br>0=%{x}<br>1=%{y}<br>2=%{z}<extra></extra>",
         "legendgroup": "trump",
         "marker": {
          "color": "#EF553B",
          "symbol": "circle"
         },
         "mode": "markers",
         "name": "trump",
         "scene": "scene",
         "showlegend": true,
         "type": "scatter3d",
         "x": {
          "bdata": "kAqOPg==",
          "dtype": "f4"
         },
         "y": {
          "bdata": "bWKhPg==",
          "dtype": "f4"
         },
         "z": {
          "bdata": "kRpXvg==",
          "dtype": "f4"
         }
        },
        {
         "hovertemplate": "color=would<br>0=%{x}<br>1=%{y}<br>2=%{z}<extra></extra>",
         "legendgroup": "would",
         "marker": {
          "color": "#00cc96",
          "symbol": "circle"
         },
         "mode": "markers",
         "name": "would",
         "scene": "scene",
         "showlegend": true,
         "type": "scatter3d",
         "x": {
          "bdata": "siACPw==",
          "dtype": "f4"
         },
         "y": {
          "bdata": "k4C/vQ==",
          "dtype": "f4"
         },
         "z": {
          "bdata": "AZNZvg==",
          "dtype": "f4"
         }
        },
        {
         "hovertemplate": "color=reuters<br>0=%{x}<br>1=%{y}<br>2=%{z}<extra></extra>",
         "legendgroup": "reuters",
         "marker": {
          "color": "#ab63fa",
          "symbol": "circle"
         },
         "mode": "markers",
         "name": "reuters",
         "scene": "scene",
         "showlegend": true,
         "type": "scatter3d",
         "x": {
          "bdata": "lrEvPg==",
          "dtype": "f4"
         },
         "y": {
          "bdata": "wFFivA==",
          "dtype": "f4"
         },
         "z": {
          "bdata": "iRwWPg==",
          "dtype": "f4"
         }
        },
        {
         "hovertemplate": "color=president<br>0=%{x}<br>1=%{y}<br>2=%{z}<extra></extra>",
         "legendgroup": "president",
         "marker": {
          "color": "#FFA15A",
          "symbol": "circle"
         },
         "mode": "markers",
         "name": "president",
         "scene": "scene",
         "showlegend": true,
         "type": "scatter3d",
         "x": {
          "bdata": "fUubPg==",
          "dtype": "f4"
         },
         "y": {
          "bdata": "pudpPg==",
          "dtype": "f4"
         },
         "z": {
          "bdata": "PQ80vg==",
          "dtype": "f4"
         }
        },
        {
         "hovertemplate": "color=state<br>0=%{x}<br>1=%{y}<br>2=%{z}<extra></extra>",
         "legendgroup": "state",
         "marker": {
          "color": "#19d3f3",
          "symbol": "circle"
         },
         "mode": "markers",
         "name": "state",
         "scene": "scene",
         "showlegend": true,
         "type": "scatter3d",
         "x": {
          "bdata": "ZVCXPg==",
          "dtype": "f4"
         },
         "y": {
          "bdata": "AJI4Ow==",
          "dtype": "f4"
         },
         "z": {
          "bdata": "2BKPPQ==",
          "dtype": "f4"
         }
        },
        {
         "hovertemplate": "color=government<br>0=%{x}<br>1=%{y}<br>2=%{z}<extra></extra>",
         "legendgroup": "government",
         "marker": {
          "color": "#FF6692",
          "symbol": "circle"
         },
         "mode": "markers",
         "name": "government",
         "scene": "scene",
         "showlegend": true,
         "type": "scatter3d",
         "x": {
          "bdata": "gi3yPg==",
          "dtype": "f4"
         },
         "y": {
          "bdata": "SRK0vQ==",
          "dtype": "f4"
         },
         "z": {
          "bdata": "lKOhvQ==",
          "dtype": "f4"
         }
        },
        {
         "hovertemplate": "color=new<br>0=%{x}<br>1=%{y}<br>2=%{z}<extra></extra>",
         "legendgroup": "new",
         "marker": {
          "color": "#B6E880",
          "symbol": "circle"
         },
         "mode": "markers",
         "name": "new",
         "scene": "scene",
         "showlegend": true,
         "type": "scatter3d",
         "x": {
          "bdata": "/cGiPg==",
          "dtype": "f4"
         },
         "y": {
          "bdata": "DCYTvQ==",
          "dtype": "f4"
         },
         "z": {
          "bdata": "eX84vQ==",
          "dtype": "f4"
         }
        },
        {
         "hovertemplate": "color=states<br>0=%{x}<br>1=%{y}<br>2=%{z}<extra></extra>",
         "legendgroup": "states",
         "marker": {
          "color": "#FF97FF",
          "symbol": "circle"
         },
         "mode": "markers",
         "name": "states",
         "scene": "scene",
         "showlegend": true,
         "type": "scatter3d",
         "x": {
          "bdata": "LXarPg==",
          "dtype": "f4"
         },
         "y": {
          "bdata": "oLwXvQ==",
          "dtype": "f4"
         },
         "z": {
          "bdata": "OdYXvQ==",
          "dtype": "f4"
         }
        },
        {
         "hovertemplate": "color=house<br>0=%{x}<br>1=%{y}<br>2=%{z}<extra></extra>",
         "legendgroup": "house",
         "marker": {
          "color": "#FECB52",
          "symbol": "circle"
         },
         "mode": "markers",
         "name": "house",
         "scene": "scene",
         "showlegend": true,
         "type": "scatter3d",
         "x": {
          "bdata": "jbWqPg==",
          "dtype": "f4"
         },
         "y": {
          "bdata": "sko8PQ==",
          "dtype": "f4"
         },
         "z": {
          "bdata": "hWIzvQ==",
          "dtype": "f4"
         }
        },
        {
         "hovertemplate": "color=republican<br>0=%{x}<br>1=%{y}<br>2=%{z}<extra></extra>",
         "legendgroup": "republican",
         "marker": {
          "color": "#636efa",
          "symbol": "circle"
         },
         "mode": "markers",
         "name": "republican",
         "scene": "scene",
         "showlegend": true,
         "type": "scatter3d",
         "x": {
          "bdata": "4t+hPg==",
          "dtype": "f4"
         },
         "y": {
          "bdata": "3gtFPg==",
          "dtype": "f4"
         },
         "z": {
          "bdata": "T0Mvvg==",
          "dtype": "f4"
         }
        },
        {
         "hovertemplate": "color=also<br>0=%{x}<br>1=%{y}<br>2=%{z}<extra></extra>",
         "legendgroup": "also",
         "marker": {
          "color": "#EF553B",
          "symbol": "circle"
         },
         "mode": "markers",
         "name": "also",
         "scene": "scene",
         "showlegend": true,
         "type": "scatter3d",
         "x": {
          "bdata": "vInDPg==",
          "dtype": "f4"
         },
         "y": {
          "bdata": "lMoavg==",
          "dtype": "f4"
         },
         "z": {
          "bdata": "mDqpvA==",
          "dtype": "f4"
         }
        },
        {
         "hovertemplate": "color=united<br>0=%{x}<br>1=%{y}<br>2=%{z}<extra></extra>",
         "legendgroup": "united",
         "marker": {
          "color": "#00cc96",
          "symbol": "circle"
         },
         "mode": "markers",
         "name": "united",
         "scene": "scene",
         "showlegend": true,
         "type": "scatter3d",
         "x": {
          "bdata": "7muMPg==",
          "dtype": "f4"
         },
         "y": {
          "bdata": "lLKiPQ==",
          "dtype": "f4"
         },
         "z": {
          "bdata": "EJgKuw==",
          "dtype": "f4"
         }
        },
        {
         "hovertemplate": "color=people<br>0=%{x}<br>1=%{y}<br>2=%{z}<extra></extra>",
         "legendgroup": "people",
         "marker": {
          "color": "#ab63fa",
          "symbol": "circle"
         },
         "mode": "markers",
         "name": "people",
         "scene": "scene",
         "showlegend": true,
         "type": "scatter3d",
         "x": {
          "bdata": "vcwUPg==",
          "dtype": "f4"
         },
         "y": {
          "bdata": "Tgo/Pg==",
          "dtype": "f4"
         },
         "z": {
          "bdata": "SHcJPg==",
          "dtype": "f4"
         }
        },
        {
         "hovertemplate": "color=year<br>0=%{x}<br>1=%{y}<br>2=%{z}<extra></extra>",
         "legendgroup": "year",
         "marker": {
          "color": "#FFA15A",
          "symbol": "circle"
         },
         "mode": "markers",
         "name": "year",
         "scene": "scene",
         "showlegend": true,
         "type": "scatter3d",
         "x": {
          "bdata": "g+h3Pg==",
          "dtype": "f4"
         },
         "y": {
          "bdata": "kh4FvQ==",
          "dtype": "f4"
         },
         "z": {
          "bdata": "UjFpPQ==",
          "dtype": "f4"
         }
        },
        {
         "hovertemplate": "color=told<br>0=%{x}<br>1=%{y}<br>2=%{z}<extra></extra>",
         "legendgroup": "told",
         "marker": {
          "color": "#19d3f3",
          "symbol": "circle"
         },
         "mode": "markers",
         "name": "told",
         "scene": "scene",
         "showlegend": true,
         "type": "scatter3d",
         "x": {
          "bdata": "dvuJPg==",
          "dtype": "f4"
         },
         "y": {
          "bdata": "2sILPg==",
          "dtype": "f4"
         },
         "z": {
          "bdata": "IBW8ug==",
          "dtype": "f4"
         }
        },
        {
         "hovertemplate": "color=could<br>0=%{x}<br>1=%{y}<br>2=%{z}<extra></extra>",
         "legendgroup": "could",
         "marker": {
          "color": "#FF6692",
          "symbol": "circle"
         },
         "mode": "markers",
         "name": "could",
         "scene": "scene",
         "showlegend": true,
         "type": "scatter3d",
         "x": {
          "bdata": "oNbQPg==",
          "dtype": "f4"
         },
         "y": {
          "bdata": "E9DDvQ==",
          "dtype": "f4"
         },
         "z": {
          "bdata": "CVMXvg==",
          "dtype": "f4"
         }
        },
        {
         "hovertemplate": "color=one<br>0=%{x}<br>1=%{y}<br>2=%{z}<extra></extra>",
         "legendgroup": "one",
         "marker": {
          "color": "#B6E880",
          "symbol": "circle"
         },
         "mode": "markers",
         "name": "one",
         "scene": "scene",
         "showlegend": true,
         "type": "scatter3d",
         "x": {
          "bdata": "vqAIPg==",
          "dtype": "f4"
         },
         "y": {
          "bdata": "hZ4jPg==",
          "dtype": "f4"
         },
         "z": {
          "bdata": "ZIICPg==",
          "dtype": "f4"
         }
        },
        {
         "hovertemplate": "color=washington<br>0=%{x}<br>1=%{y}<br>2=%{z}<extra></extra>",
         "legendgroup": "washington",
         "marker": {
          "color": "#FF97FF",
          "symbol": "circle"
         },
         "mode": "markers",
         "name": "washington",
         "scene": "scene",
         "showlegend": true,
         "type": "scatter3d",
         "x": {
          "bdata": "sM+0Pg==",
          "dtype": "f4"
         },
         "y": {
          "bdata": "8SmnPQ==",
          "dtype": "f4"
         },
         "z": {
          "bdata": "Cq0Svg==",
          "dtype": "f4"
         }
        },
        {
         "hovertemplate": "color=party<br>0=%{x}<br>1=%{y}<br>2=%{z}<extra></extra>",
         "legendgroup": "party",
         "marker": {
          "color": "#FECB52",
          "symbol": "circle"
         },
         "mode": "markers",
         "name": "party",
         "scene": "scene",
         "showlegend": true,
         "type": "scatter3d",
         "x": {
          "bdata": "0DCGPg==",
          "dtype": "f4"
         },
         "y": {
          "bdata": "+U2bPg==",
          "dtype": "f4"
         },
         "z": {
          "bdata": "AYdxvg==",
          "dtype": "f4"
         }
        },
        {
         "hovertemplate": "color=last<br>0=%{x}<br>1=%{y}<br>2=%{z}<extra></extra>",
         "legendgroup": "last",
         "marker": {
          "color": "#636efa",
          "symbol": "circle"
         },
         "mode": "markers",
         "name": "last",
         "scene": "scene",
         "showlegend": true,
         "type": "scatter3d",
         "x": {
          "bdata": "5i+BPg==",
          "dtype": "f4"
         },
         "y": {
          "bdata": "HpSjPQ==",
          "dtype": "f4"
         },
         "z": {
          "bdata": "GHyEPQ==",
          "dtype": "f4"
         }
        },
        {
         "hovertemplate": "color=two<br>0=%{x}<br>1=%{y}<br>2=%{z}<extra></extra>",
         "legendgroup": "two",
         "marker": {
          "color": "#EF553B",
          "symbol": "circle"
         },
         "mode": "markers",
         "name": "two",
         "scene": "scene",
         "showlegend": true,
         "type": "scatter3d",
         "x": {
          "bdata": "2NxUPg==",
          "dtype": "f4"
         },
         "y": {
          "bdata": "SHxcPQ==",
          "dtype": "f4"
         },
         "z": {
          "bdata": "tsk7Pg==",
          "dtype": "f4"
         }
        },
        {
         "hovertemplate": "color=election<br>0=%{x}<br>1=%{y}<br>2=%{z}<extra></extra>",
         "legendgroup": "election",
         "marker": {
          "color": "#00cc96",
          "symbol": "circle"
         },
         "mode": "markers",
         "name": "election",
         "scene": "scene",
         "showlegend": true,
         "type": "scatter3d",
         "x": {
          "bdata": "+j6xPg==",
          "dtype": "f4"
         },
         "y": {
          "bdata": "sOhEPg==",
          "dtype": "f4"
         },
         "z": {
          "bdata": "6yxNvg==",
          "dtype": "f4"
         }
        },
        {
         "hovertemplate": "color=campaign<br>0=%{x}<br>1=%{y}<br>2=%{z}<extra></extra>",
         "legendgroup": "campaign",
         "marker": {
          "color": "#ab63fa",
          "symbol": "circle"
         },
         "mode": "markers",
         "name": "campaign",
         "scene": "scene",
         "showlegend": true,
         "type": "scatter3d",
         "x": {
          "bdata": "lcWYPg==",
          "dtype": "f4"
         },
         "y": {
          "bdata": "krpsPg==",
          "dtype": "f4"
         },
         "z": {
          "bdata": "SIyrvQ==",
          "dtype": "f4"
         }
        },
        {
         "hovertemplate": "color=former<br>0=%{x}<br>1=%{y}<br>2=%{z}<extra></extra>",
         "legendgroup": "former",
         "marker": {
          "color": "#FFA15A",
          "symbol": "circle"
         },
         "mode": "markers",
         "name": "former",
         "scene": "scene",
         "showlegend": true,
         "type": "scatter3d",
         "x": {
          "bdata": "i71EPg==",
          "dtype": "f4"
         },
         "y": {
          "bdata": "9BdlPg==",
          "dtype": "f4"
         },
         "z": {
          "bdata": "AEAAvQ==",
          "dtype": "f4"
         }
        },
        {
         "hovertemplate": "color=donald<br>0=%{x}<br>1=%{y}<br>2=%{z}<extra></extra>",
         "legendgroup": "donald",
         "marker": {
          "color": "#19d3f3",
          "symbol": "circle"
         },
         "mode": "markers",
         "name": "donald",
         "scene": "scene",
         "showlegend": true,
         "type": "scatter3d",
         "x": {
          "bdata": "fVCFPg==",
          "dtype": "f4"
         },
         "y": {
          "bdata": "3mwUPg==",
          "dtype": "f4"
         },
         "z": {
          "bdata": "IhKFvQ==",
          "dtype": "f4"
         }
        },
        {
         "hovertemplate": "color=security<br>0=%{x}<br>1=%{y}<br>2=%{z}<extra></extra>",
         "legendgroup": "security",
         "marker": {
          "color": "#FF6692",
          "symbol": "circle"
         },
         "mode": "markers",
         "name": "security",
         "scene": "scene",
         "showlegend": true,
         "type": "scatter3d",
         "x": {
          "bdata": "3B+5Pg==",
          "dtype": "f4"
         },
         "y": {
          "bdata": "NCI4PA==",
          "dtype": "f4"
         },
         "z": {
          "bdata": "UiRDPQ==",
          "dtype": "f4"
         }
        },
        {
         "hovertemplate": "color=percent<br>0=%{x}<br>1=%{y}<br>2=%{z}<extra></extra>",
         "legendgroup": "percent",
         "marker": {
          "color": "#B6E880",
          "symbol": "circle"
         },
         "mode": "markers",
         "name": "percent",
         "scene": "scene",
         "showlegend": true,
         "type": "scatter3d",
         "x": {
          "bdata": "utCDPg==",
          "dtype": "f4"
         },
         "y": {
          "bdata": "7js4vg==",
          "dtype": "f4"
         },
         "z": {
          "bdata": "h40xvQ==",
          "dtype": "f4"
         }
        },
        {
         "hovertemplate": "color=north<br>0=%{x}<br>1=%{y}<br>2=%{z}<extra></extra>",
         "legendgroup": "north",
         "marker": {
          "color": "#FF97FF",
          "symbol": "circle"
         },
         "mode": "markers",
         "name": "north",
         "scene": "scene",
         "showlegend": true,
         "type": "scatter3d",
         "x": {
          "bdata": "g9lkPg==",
          "dtype": "f4"
         },
         "y": {
          "bdata": "WNSqvA==",
          "dtype": "f4"
         },
         "z": {
          "bdata": "kg1hPQ==",
          "dtype": "f4"
         }
        },
        {
         "hovertemplate": "color=white<br>0=%{x}<br>1=%{y}<br>2=%{z}<extra></extra>",
         "legendgroup": "white",
         "marker": {
          "color": "#FECB52",
          "symbol": "circle"
         },
         "mode": "markers",
         "name": "white",
         "scene": "scene",
         "showlegend": true,
         "type": "scatter3d",
         "x": {
          "bdata": "fSqHPg==",
          "dtype": "f4"
         },
         "y": {
          "bdata": "CPEGPg==",
          "dtype": "f4"
         },
         "z": {
          "bdata": "t6ZFvQ==",
          "dtype": "f4"
         }
        },
        {
         "hovertemplate": "color=court<br>0=%{x}<br>1=%{y}<br>2=%{z}<extra></extra>",
         "legendgroup": "court",
         "marker": {
          "color": "#636efa",
          "symbol": "circle"
         },
         "mode": "markers",
         "name": "court",
         "scene": "scene",
         "showlegend": true,
         "type": "scatter3d",
         "x": {
          "bdata": "btaPPg==",
          "dtype": "f4"
         },
         "y": {
          "bdata": "HUyzPQ==",
          "dtype": "f4"
         },
         "z": {
          "bdata": "Do6wPQ==",
          "dtype": "f4"
         }
        },
        {
         "hovertemplate": "color=clinton<br>0=%{x}<br>1=%{y}<br>2=%{z}<extra></extra>",
         "legendgroup": "clinton",
         "marker": {
          "color": "#EF553B",
          "symbol": "circle"
         },
         "mode": "markers",
         "name": "clinton",
         "scene": "scene",
         "showlegend": true,
         "type": "scatter3d",
         "x": {
          "bdata": "UESHPg==",
          "dtype": "f4"
         },
         "y": {
          "bdata": "EtFSPg==",
          "dtype": "f4"
         },
         "z": {
          "bdata": "Wl3VvQ==",
          "dtype": "f4"
         }
        },
        {
         "hovertemplate": "color=obama<br>0=%{x}<br>1=%{y}<br>2=%{z}<extra></extra>",
         "legendgroup": "obama",
         "marker": {
          "color": "#00cc96",
          "symbol": "circle"
         },
         "mode": "markers",
         "name": "obama",
         "scene": "scene",
         "showlegend": true,
         "type": "scatter3d",
         "x": {
          "bdata": "7ayfPg==",
          "dtype": "f4"
         },
         "y": {
          "bdata": "YccAPg==",
          "dtype": "f4"
         },
         "z": {
          "bdata": "GrSxvQ==",
          "dtype": "f4"
         }
        },
        {
         "hovertemplate": "color=senate<br>0=%{x}<br>1=%{y}<br>2=%{z}<extra></extra>",
         "legendgroup": "senate",
         "marker": {
          "color": "#ab63fa",
          "symbol": "circle"
         },
         "mode": "markers",
         "name": "senate",
         "scene": "scene",
         "showlegend": true,
         "type": "scatter3d",
         "x": {
          "bdata": "zm7APg==",
          "dtype": "f4"
         },
         "y": {
          "bdata": "2twlPQ==",
          "dtype": "f4"
         },
         "z": {
          "bdata": "BgDcvQ==",
          "dtype": "f4"
         }
        },
        {
         "hovertemplate": "color=country<br>0=%{x}<br>1=%{y}<br>2=%{z}<extra></extra>",
         "legendgroup": "country",
         "marker": {
          "color": "#FFA15A",
          "symbol": "circle"
         },
         "mode": "markers",
         "name": "country",
         "scene": "scene",
         "showlegend": true,
         "type": "scatter3d",
         "x": {
          "bdata": "yjOIPg==",
          "dtype": "f4"
         },
         "y": {
          "bdata": "TozcPQ==",
          "dtype": "f4"
         },
         "z": {
          "bdata": "ORJmvQ==",
          "dtype": "f4"
         }
        },
        {
         "hovertemplate": "color=china<br>0=%{x}<br>1=%{y}<br>2=%{z}<extra></extra>",
         "legendgroup": "china",
         "marker": {
          "color": "#19d3f3",
          "symbol": "circle"
         },
         "mode": "markers",
         "name": "china",
         "scene": "scene",
         "showlegend": true,
         "type": "scatter3d",
         "x": {
          "bdata": "Ob6iPg==",
          "dtype": "f4"
         },
         "y": {
          "bdata": "9FqOvA==",
          "dtype": "f4"
         },
         "z": {
          "bdata": "O3knvg==",
          "dtype": "f4"
         }
        },
        {
         "hovertemplate": "color=first<br>0=%{x}<br>1=%{y}<br>2=%{z}<extra></extra>",
         "legendgroup": "first",
         "marker": {
          "color": "#FF6692",
          "symbol": "circle"
         },
         "mode": "markers",
         "name": "first",
         "scene": "scene",
         "showlegend": true,
         "type": "scatter3d",
         "x": {
          "bdata": "WtBaPg==",
          "dtype": "f4"
         },
         "y": {
          "bdata": "5BgUPg==",
          "dtype": "f4"
         },
         "z": {
          "bdata": "7LGnPA==",
          "dtype": "f4"
         }
        },
        {
         "hovertemplate": "color=minister<br>0=%{x}<br>1=%{y}<br>2=%{z}<extra></extra>",
         "legendgroup": "minister",
         "marker": {
          "color": "#B6E880",
          "symbol": "circle"
         },
         "mode": "markers",
         "name": "minister",
         "scene": "scene",
         "showlegend": true,
         "type": "scatter3d",
         "x": {
          "bdata": "c+tEPg==",
          "dtype": "f4"
         },
         "y": {
          "bdata": "movjPQ==",
          "dtype": "f4"
         },
         "z": {
          "bdata": "L4VpvQ==",
          "dtype": "f4"
         }
        },
        {
         "hovertemplate": "color=officials<br>0=%{x}<br>1=%{y}<br>2=%{z}<extra></extra>",
         "legendgroup": "officials",
         "marker": {
          "color": "#FF97FF",
          "symbol": "circle"
         },
         "mode": "markers",
         "name": "officials",
         "scene": "scene",
         "showlegend": true,
         "type": "scatter3d",
         "x": {
          "bdata": "npzTPg==",
          "dtype": "f4"
         },
         "y": {
          "bdata": "APmUug==",
          "dtype": "f4"
         },
         "z": {
          "bdata": "j1iZPQ==",
          "dtype": "f4"
         }
        },
        {
         "hovertemplate": "color=week<br>0=%{x}<br>1=%{y}<br>2=%{z}<extra></extra>",
         "legendgroup": "week",
         "marker": {
          "color": "#FECB52",
          "symbol": "circle"
         },
         "mode": "markers",
         "name": "week",
         "scene": "scene",
         "showlegend": true,
         "type": "scatter3d",
         "x": {
          "bdata": "zqiQPg==",
          "dtype": "f4"
         },
         "y": {
          "bdata": "aJejPQ==",
          "dtype": "f4"
         },
         "z": {
          "bdata": "/iyoPA==",
          "dtype": "f4"
         }
        },
        {
         "hovertemplate": "color=democratic<br>0=%{x}<br>1=%{y}<br>2=%{z}<extra></extra>",
         "legendgroup": "democratic",
         "marker": {
          "color": "#636efa",
          "symbol": "circle"
         },
         "mode": "markers",
         "name": "democratic",
         "scene": "scene",
         "showlegend": true,
         "type": "scatter3d",
         "x": {
          "bdata": "ZkqcPg==",
          "dtype": "f4"
         },
         "y": {
          "bdata": "phkRPg==",
          "dtype": "f4"
         },
         "z": {
          "bdata": "ATsnvg==",
          "dtype": "f4"
         }
        },
        {
         "hovertemplate": "color=since<br>0=%{x}<br>1=%{y}<br>2=%{z}<extra></extra>",
         "legendgroup": "since",
         "marker": {
          "color": "#EF553B",
          "symbol": "circle"
         },
         "mode": "markers",
         "name": "since",
         "scene": "scene",
         "showlegend": true,
         "type": "scatter3d",
         "x": {
          "bdata": "LD9yPg==",
          "dtype": "f4"
         },
         "y": {
          "bdata": "KEvIPA==",
          "dtype": "f4"
         },
         "z": {
          "bdata": "O/h/PQ==",
          "dtype": "f4"
         }
        },
        {
         "hovertemplate": "color=foreign<br>0=%{x}<br>1=%{y}<br>2=%{z}<extra></extra>",
         "legendgroup": "foreign",
         "marker": {
          "color": "#00cc96",
          "symbol": "circle"
         },
         "mode": "markers",
         "name": "foreign",
         "scene": "scene",
         "showlegend": true,
         "type": "scatter3d",
         "x": {
          "bdata": "viDCPg==",
          "dtype": "f4"
         },
         "y": {
          "bdata": "qHK+PQ==",
          "dtype": "f4"
         },
         "z": {
          "bdata": "EiDqvQ==",
          "dtype": "f4"
         }
        },
        {
         "hovertemplate": "color=tuesday<br>0=%{x}<br>1=%{y}<br>2=%{z}<extra></extra>",
         "legendgroup": "tuesday",
         "marker": {
          "color": "#ab63fa",
          "symbol": "circle"
         },
         "mode": "markers",
         "name": "tuesday",
         "scene": "scene",
         "showlegend": true,
         "type": "scatter3d",
         "x": {
          "bdata": "E2uVPg==",
          "dtype": "f4"
         },
         "y": {
          "bdata": "wdcZPQ==",
          "dtype": "f4"
         },
         "z": {
          "bdata": "2aFjPQ==",
          "dtype": "f4"
         }
        },
        {
         "hovertemplate": "color=administration<br>0=%{x}<br>1=%{y}<br>2=%{z}<extra></extra>",
         "legendgroup": "administration",
         "marker": {
          "color": "#FFA15A",
          "symbol": "circle"
         },
         "mode": "markers",
         "name": "administration",
         "scene": "scene",
         "showlegend": true,
         "type": "scatter3d",
         "x": {
          "bdata": "KDYFPw==",
          "dtype": "f4"
         },
         "y": {
          "bdata": "LYmvvQ==",
          "dtype": "f4"
         },
         "z": {
          "bdata": "xnxTvg==",
          "dtype": "f4"
         }
        },
        {
         "hovertemplate": "color=law<br>0=%{x}<br>1=%{y}<br>2=%{z}<extra></extra>",
         "legendgroup": "law",
         "marker": {
          "color": "#19d3f3",
          "symbol": "circle"
         },
         "mode": "markers",
         "name": "law",
         "scene": "scene",
         "showlegend": true,
         "type": "scatter3d",
         "x": {
          "bdata": "oYbCPg==",
          "dtype": "f4"
         },
         "y": {
          "bdata": "AjYPPQ==",
          "dtype": "f4"
         },
         "z": {
          "bdata": "WfI+vQ==",
          "dtype": "f4"
         }
        },
        {
         "hovertemplate": "color=national<br>0=%{x}<br>1=%{y}<br>2=%{z}<extra></extra>",
         "legendgroup": "national",
         "marker": {
          "color": "#FF6692",
          "symbol": "circle"
         },
         "mode": "markers",
         "name": "national",
         "scene": "scene",
         "showlegend": true,
         "type": "scatter3d",
         "x": {
          "bdata": "xJmbPg==",
          "dtype": "f4"
         },
         "y": {
          "bdata": "DO7MPQ==",
          "dtype": "f4"
         },
         "z": {
          "bdata": "XB2CvQ==",
          "dtype": "f4"
         }
        },
        {
         "hovertemplate": "color=tax<br>0=%{x}<br>1=%{y}<br>2=%{z}<extra></extra>",
         "legendgroup": "tax",
         "marker": {
          "color": "#B6E880",
          "symbol": "circle"
         },
         "mode": "markers",
         "name": "tax",
         "scene": "scene",
         "showlegend": true,
         "type": "scatter3d",
         "x": {
          "bdata": "5bqpPg==",
          "dtype": "f4"
         },
         "y": {
          "bdata": "DT+9vQ==",
          "dtype": "f4"
         },
         "z": {
          "bdata": "0UAUvg==",
          "dtype": "f4"
         }
        },
        {
         "hovertemplate": "color=including<br>0=%{x}<br>1=%{y}<br>2=%{z}<extra></extra>",
         "legendgroup": "including",
         "marker": {
          "color": "#FF97FF",
          "symbol": "circle"
         },
         "mode": "markers",
         "name": "including",
         "scene": "scene",
         "showlegend": true,
         "type": "scatter3d",
         "x": {
          "bdata": "8MaLPg==",
          "dtype": "f4"
         },
         "y": {
          "bdata": "7y38vQ==",
          "dtype": "f4"
         },
         "z": {
          "bdata": "UtAlPg==",
          "dtype": "f4"
         }
        },
        {
         "hovertemplate": "color=military<br>0=%{x}<br>1=%{y}<br>2=%{z}<extra></extra>",
         "legendgroup": "military",
         "marker": {
          "color": "#FECB52",
          "symbol": "circle"
         },
         "mode": "markers",
         "name": "military",
         "scene": "scene",
         "showlegend": true,
         "type": "scatter3d",
         "x": {
          "bdata": "6pehPg==",
          "dtype": "f4"
         },
         "y": {
          "bdata": "0saIPQ==",
          "dtype": "f4"
         },
         "z": {
          "bdata": "KmBCPA==",
          "dtype": "f4"
         }
        },
        {
         "hovertemplate": "color=russia<br>0=%{x}<br>1=%{y}<br>2=%{z}<extra></extra>",
         "legendgroup": "russia",
         "marker": {
          "color": "#636efa",
          "symbol": "circle"
         },
         "mode": "markers",
         "name": "russia",
         "scene": "scene",
         "showlegend": true,
         "type": "scatter3d",
         "x": {
          "bdata": "8hXVPg==",
          "dtype": "f4"
         },
         "y": {
          "bdata": "kqHAPQ==",
          "dtype": "f4"
         },
         "z": {
          "bdata": "trs+vg==",
          "dtype": "f4"
         }
        },
        {
         "hovertemplate": "color=presidential<br>0=%{x}<br>1=%{y}<br>2=%{z}<extra></extra>",
         "legendgroup": "presidential",
         "marker": {
          "color": "#EF553B",
          "symbol": "circle"
         },
         "mode": "markers",
         "name": "presidential",
         "scene": "scene",
         "showlegend": true,
         "type": "scatter3d",
         "x": {
          "bdata": "PSRtPg==",
          "dtype": "f4"
         },
         "y": {
          "bdata": "/m5HPg==",
          "dtype": "f4"
         },
         "z": {
          "bdata": "KQRevQ==",
          "dtype": "f4"
         }
        },
        {
         "hovertemplate": "color=wednesday<br>0=%{x}<br>1=%{y}<br>2=%{z}<extra></extra>",
         "legendgroup": "wednesday",
         "marker": {
          "color": "#00cc96",
          "symbol": "circle"
         },
         "mode": "markers",
         "name": "wednesday",
         "scene": "scene",
         "showlegend": true,
         "type": "scatter3d",
         "x": {
          "bdata": "8FmRPg==",
          "dtype": "f4"
         },
         "y": {
          "bdata": "omR4PQ==",
          "dtype": "f4"
         },
         "z": {
          "bdata": "TZSsPQ==",
          "dtype": "f4"
         }
        },
        {
         "hovertemplate": "color=years<br>0=%{x}<br>1=%{y}<br>2=%{z}<extra></extra>",
         "legendgroup": "years",
         "marker": {
          "color": "#ab63fa",
          "symbol": "circle"
         },
         "mode": "markers",
         "name": "years",
         "scene": "scene",
         "showlegend": true,
         "type": "scatter3d",
         "x": {
          "bdata": "4bhePg==",
          "dtype": "f4"
         },
         "y": {
          "bdata": "OEk3vA==",
          "dtype": "f4"
         },
         "z": {
          "bdata": "D8FyPA==",
          "dtype": "f4"
         }
        },
        {
         "hovertemplate": "color=may<br>0=%{x}<br>1=%{y}<br>2=%{z}<extra></extra>",
         "legendgroup": "may",
         "marker": {
          "color": "#FFA15A",
          "symbol": "circle"
         },
         "mode": "markers",
         "name": "may",
         "scene": "scene",
         "showlegend": true,
         "type": "scatter3d",
         "x": {
          "bdata": "gkPFPg==",
          "dtype": "f4"
         },
         "y": {
          "bdata": "OYtrPQ==",
          "dtype": "f4"
         },
         "z": {
          "bdata": "JetHvg==",
          "dtype": "f4"
         }
        },
        {
         "hovertemplate": "color=political<br>0=%{x}<br>1=%{y}<br>2=%{z}<extra></extra>",
         "legendgroup": "political",
         "marker": {
          "color": "#19d3f3",
          "symbol": "circle"
         },
         "mode": "markers",
         "name": "political",
         "scene": "scene",
         "showlegend": true,
         "type": "scatter3d",
         "x": {
          "bdata": "RQKUPg==",
          "dtype": "f4"
         },
         "y": {
          "bdata": "sFWzPg==",
          "dtype": "f4"
         },
         "z": {
          "bdata": "2S+uvg==",
          "dtype": "f4"
         }
        },
        {
         "hovertemplate": "color=thursday<br>0=%{x}<br>1=%{y}<br>2=%{z}<extra></extra>",
         "legendgroup": "thursday",
         "marker": {
          "color": "#FF6692",
          "symbol": "circle"
         },
         "mode": "markers",
         "name": "thursday",
         "scene": "scene",
         "showlegend": true,
         "type": "scatter3d",
         "x": {
          "bdata": "7PqZPg==",
          "dtype": "f4"
         },
         "y": {
          "bdata": "lGAwPQ==",
          "dtype": "f4"
         },
         "z": {
          "bdata": "GA+EPQ==",
          "dtype": "f4"
         }
        },
        {
         "hovertemplate": "color=statement<br>0=%{x}<br>1=%{y}<br>2=%{z}<extra></extra>",
         "legendgroup": "statement",
         "marker": {
          "color": "#B6E880",
          "symbol": "circle"
         },
         "mode": "markers",
         "name": "statement",
         "scene": "scene",
         "showlegend": true,
         "type": "scatter3d",
         "x": {
          "bdata": "vjyoPg==",
          "dtype": "f4"
         },
         "y": {
          "bdata": "Vpm+PQ==",
          "dtype": "f4"
         },
         "z": {
          "bdata": "gCTDOQ==",
          "dtype": "f4"
         }
        },
        {
         "hovertemplate": "color=time<br>0=%{x}<br>1=%{y}<br>2=%{z}<extra></extra>",
         "legendgroup": "time",
         "marker": {
          "color": "#FF97FF",
          "symbol": "circle"
         },
         "mode": "markers",
         "name": "time",
         "scene": "scene",
         "showlegend": true,
         "type": "scatter3d",
         "x": {
          "bdata": "6RORPg==",
          "dtype": "f4"
         },
         "y": {
          "bdata": "x3eIPQ==",
          "dtype": "f4"
         },
         "z": {
          "bdata": "UGZVvA==",
          "dtype": "f4"
         }
        },
        {
         "hovertemplate": "color=friday<br>0=%{x}<br>1=%{y}<br>2=%{z}<extra></extra>",
         "legendgroup": "friday",
         "marker": {
          "color": "#FECB52",
          "symbol": "circle"
         },
         "mode": "markers",
         "name": "friday",
         "scene": "scene",
         "showlegend": true,
         "type": "scatter3d",
         "x": {
          "bdata": "zduMPg==",
          "dtype": "f4"
         },
         "y": {
          "bdata": "hnOOPQ==",
          "dtype": "f4"
         },
         "z": {
          "bdata": "PAfMPQ==",
          "dtype": "f4"
         }
        },
        {
         "hovertemplate": "color=korea<br>0=%{x}<br>1=%{y}<br>2=%{z}<extra></extra>",
         "legendgroup": "korea",
         "marker": {
          "color": "#636efa",
          "symbol": "circle"
         },
         "mode": "markers",
         "name": "korea",
         "scene": "scene",
         "showlegend": true,
         "type": "scatter3d",
         "x": {
          "bdata": "hmyQPg==",
          "dtype": "f4"
         },
         "y": {
          "bdata": "LGMlPQ==",
          "dtype": "f4"
         },
         "z": {
          "bdata": "vljJvQ==",
          "dtype": "f4"
         }
        },
        {
         "hovertemplate": "color=support<br>0=%{x}<br>1=%{y}<br>2=%{z}<extra></extra>",
         "legendgroup": "support",
         "marker": {
          "color": "#EF553B",
          "symbol": "circle"
         },
         "mode": "markers",
         "name": "support",
         "scene": "scene",
         "showlegend": true,
         "type": "scatter3d",
         "x": {
          "bdata": "gae0Pg==",
          "dtype": "f4"
         },
         "y": {
          "bdata": "WjgDPg==",
          "dtype": "f4"
         },
         "z": {
          "bdata": "cLiNvg==",
          "dtype": "f4"
         }
        },
        {
         "hovertemplate": "color=monday<br>0=%{x}<br>1=%{y}<br>2=%{z}<extra></extra>",
         "legendgroup": "monday",
         "marker": {
          "color": "#00cc96",
          "symbol": "circle"
         },
         "mode": "markers",
         "name": "monday",
         "scene": "scene",
         "showlegend": true,
         "type": "scatter3d",
         "x": {
          "bdata": "XoaPPg==",
          "dtype": "f4"
         },
         "y": {
          "bdata": "Cp6gPQ==",
          "dtype": "f4"
         },
         "z": {
          "bdata": "73G9PQ==",
          "dtype": "f4"
         }
        },
        {
         "hovertemplate": "color=group<br>0=%{x}<br>1=%{y}<br>2=%{z}<extra></extra>",
         "legendgroup": "group",
         "marker": {
          "color": "#ab63fa",
          "symbol": "circle"
         },
         "mode": "markers",
         "name": "group",
         "scene": "scene",
         "showlegend": true,
         "type": "scatter3d",
         "x": {
          "bdata": "dZ99Pg==",
          "dtype": "f4"
         },
         "y": {
          "bdata": "d+5UPQ==",
          "dtype": "f4"
         },
         "z": {
          "bdata": "pBb8PQ==",
          "dtype": "f4"
         }
        },
        {
         "hovertemplate": "color=vote<br>0=%{x}<br>1=%{y}<br>2=%{z}<extra></extra>",
         "legendgroup": "vote",
         "marker": {
          "color": "#FFA15A",
          "symbol": "circle"
         },
         "mode": "markers",
         "name": "vote",
         "scene": "scene",
         "showlegend": true,
         "type": "scatter3d",
         "x": {
          "bdata": "iLOcPg==",
          "dtype": "f4"
         },
         "y": {
          "bdata": "RQQZPg==",
          "dtype": "f4"
         },
         "z": {
          "bdata": "vJ3+vQ==",
          "dtype": "f4"
         }
        },
        {
         "hovertemplate": "color=bill<br>0=%{x}<br>1=%{y}<br>2=%{z}<extra></extra>",
         "legendgroup": "bill",
         "marker": {
          "color": "#19d3f3",
          "symbol": "circle"
         },
         "mode": "markers",
         "name": "bill",
         "scene": "scene",
         "showlegend": true,
         "type": "scatter3d",
         "x": {
          "bdata": "EqqxPg==",
          "dtype": "f4"
         },
         "y": {
          "bdata": "afbRvQ==",
          "dtype": "f4"
         },
         "z": {
          "bdata": "YtiMvQ==",
          "dtype": "f4"
         }
        },
        {
         "hovertemplate": "color=called<br>0=%{x}<br>1=%{y}<br>2=%{z}<extra></extra>",
         "legendgroup": "called",
         "marker": {
          "color": "#FF6692",
          "symbol": "circle"
         },
         "mode": "markers",
         "name": "called",
         "scene": "scene",
         "showlegend": true,
         "type": "scatter3d",
         "x": {
          "bdata": "GSFxPg==",
          "dtype": "f4"
         },
         "y": {
          "bdata": "tmioPg==",
          "dtype": "f4"
         },
         "z": {
          "bdata": "IuYhvg==",
          "dtype": "f4"
         }
        },
        {
         "hovertemplate": "color=republicans<br>0=%{x}<br>1=%{y}<br>2=%{z}<extra></extra>",
         "legendgroup": "republicans",
         "marker": {
          "color": "#B6E880",
          "symbol": "circle"
         },
         "mode": "markers",
         "name": "republicans",
         "scene": "scene",
         "showlegend": true,
         "type": "scatter3d",
         "x": {
          "bdata": "PGnBPg==",
          "dtype": "f4"
         },
         "y": {
          "bdata": "yucxPg==",
          "dtype": "f4"
         },
         "z": {
          "bdata": "N9WBvg==",
          "dtype": "f4"
         }
        },
        {
         "hovertemplate": "color=many<br>0=%{x}<br>1=%{y}<br>2=%{z}<extra></extra>",
         "legendgroup": "many",
         "marker": {
          "color": "#FF97FF",
          "symbol": "circle"
         },
         "mode": "markers",
         "name": "many",
         "scene": "scene",
         "showlegend": true,
         "type": "scatter3d",
         "x": {
          "bdata": "UDAiPg==",
          "dtype": "f4"
         },
         "y": {
          "bdata": "7DvmPQ==",
          "dtype": "f4"
         },
         "z": {
          "bdata": "SnyGvA==",
          "dtype": "f4"
         }
        },
        {
         "hovertemplate": "color=say<br>0=%{x}<br>1=%{y}<br>2=%{z}<extra></extra>",
         "legendgroup": "say",
         "marker": {
          "color": "#FECB52",
          "symbol": "circle"
         },
         "mode": "markers",
         "name": "say",
         "scene": "scene",
         "showlegend": true,
         "type": "scatter3d",
         "x": {
          "bdata": "BCyjPg==",
          "dtype": "f4"
         },
         "y": {
          "bdata": "gOxAPQ==",
          "dtype": "f4"
         },
         "z": {
          "bdata": "Ii3kvQ==",
          "dtype": "f4"
         }
        },
        {
         "hovertemplate": "color=office<br>0=%{x}<br>1=%{y}<br>2=%{z}<extra></extra>",
         "legendgroup": "office",
         "marker": {
          "color": "#636efa",
          "symbol": "circle"
         },
         "mode": "markers",
         "name": "office",
         "scene": "scene",
         "showlegend": true,
         "type": "scatter3d",
         "x": {
          "bdata": "hU2zPg==",
          "dtype": "f4"
         },
         "y": {
          "bdata": "uLO2PQ==",
          "dtype": "f4"
         },
         "z": {
          "bdata": "0sI+PA==",
          "dtype": "f4"
         }
        },
        {
         "hovertemplate": "color=million<br>0=%{x}<br>1=%{y}<br>2=%{z}<extra></extra>",
         "legendgroup": "million",
         "marker": {
          "color": "#EF553B",
          "symbol": "circle"
         },
         "mode": "markers",
         "name": "million",
         "scene": "scene",
         "showlegend": true,
         "type": "scatter3d",
         "x": {
          "bdata": "N09rPg==",
          "dtype": "f4"
         },
         "y": {
          "bdata": "LGuDvg==",
          "dtype": "f4"
         },
         "z": {
          "bdata": "4tJCPg==",
          "dtype": "f4"
         }
        },
        {
         "hovertemplate": "color=congress<br>0=%{x}<br>1=%{y}<br>2=%{z}<extra></extra>",
         "legendgroup": "congress",
         "marker": {
          "color": "#00cc96",
          "symbol": "circle"
         },
         "mode": "markers",
         "name": "congress",
         "scene": "scene",
         "showlegend": true,
         "type": "scatter3d",
         "x": {
          "bdata": "DhYAPw==",
          "dtype": "f4"
         },
         "y": {
          "bdata": "LI/QvA==",
          "dtype": "f4"
         },
         "z": {
          "bdata": "+LxUvg==",
          "dtype": "f4"
         }
        },
        {
         "hovertemplate": "color=federal<br>0=%{x}<br>1=%{y}<br>2=%{z}<extra></extra>",
         "legendgroup": "federal",
         "marker": {
          "color": "#ab63fa",
          "symbol": "circle"
         },
         "mode": "markers",
         "name": "federal",
         "scene": "scene",
         "showlegend": true,
         "type": "scatter3d",
         "x": {
          "bdata": "kSnMPg==",
          "dtype": "f4"
         },
         "y": {
          "bdata": "fOFBvg==",
          "dtype": "f4"
         },
         "z": {
          "bdata": "GFWCPQ==",
          "dtype": "f4"
         }
        },
        {
         "hovertemplate": "color=made<br>0=%{x}<br>1=%{y}<br>2=%{z}<extra></extra>",
         "legendgroup": "made",
         "marker": {
          "color": "#FFA15A",
          "symbol": "circle"
         },
         "mode": "markers",
         "name": "made",
         "scene": "scene",
         "showlegend": true,
         "type": "scatter3d",
         "x": {
          "bdata": "5y1tPg==",
          "dtype": "f4"
         },
         "y": {
          "bdata": "WkTwPQ==",
          "dtype": "f4"
         },
         "z": {
          "bdata": "fO/SvA==",
          "dtype": "f4"
         }
        },
        {
         "hovertemplate": "color=committee<br>0=%{x}<br>1=%{y}<br>2=%{z}<extra></extra>",
         "legendgroup": "committee",
         "marker": {
          "color": "#19d3f3",
          "symbol": "circle"
         },
         "mode": "markers",
         "name": "committee",
         "scene": "scene",
         "showlegend": true,
         "type": "scatter3d",
         "x": {
          "bdata": "DUzIPg==",
          "dtype": "f4"
         },
         "y": {
          "bdata": "cNWdPA==",
          "dtype": "f4"
         },
         "z": {
          "bdata": "4b4jvQ==",
          "dtype": "f4"
         }
        },
        {
         "hovertemplate": "color=department<br>0=%{x}<br>1=%{y}<br>2=%{z}<extra></extra>",
         "legendgroup": "department",
         "marker": {
          "color": "#FF6692",
          "symbol": "circle"
         },
         "mode": "markers",
         "name": "department",
         "scene": "scene",
         "showlegend": true,
         "type": "scatter3d",
         "x": {
          "bdata": "vEnFPg==",
          "dtype": "f4"
         },
         "y": {
          "bdata": "O8fGvQ==",
          "dtype": "f4"
         },
         "z": {
          "bdata": "mrKIPQ==",
          "dtype": "f4"
         }
        },
        {
         "hovertemplate": "color=according<br>0=%{x}<br>1=%{y}<br>2=%{z}<extra></extra>",
         "legendgroup": "according",
         "marker": {
          "color": "#B6E880",
          "symbol": "circle"
         },
         "mode": "markers",
         "name": "according",
         "scene": "scene",
         "showlegend": true,
         "type": "scatter3d",
         "x": {
          "bdata": "VXaCPg==",
          "dtype": "f4"
         },
         "y": {
          "bdata": "fPs6vg==",
          "dtype": "f4"
         },
         "z": {
          "bdata": "V6x2Pg==",
          "dtype": "f4"
         }
        },
        {
         "hovertemplate": "color=official<br>0=%{x}<br>1=%{y}<br>2=%{z}<extra></extra>",
         "legendgroup": "official",
         "marker": {
          "color": "#FF97FF",
          "symbol": "circle"
         },
         "mode": "markers",
         "name": "official",
         "scene": "scene",
         "showlegend": true,
         "type": "scatter3d",
         "x": {
          "bdata": "4yilPg==",
          "dtype": "f4"
         },
         "y": {
          "bdata": "YpvRPA==",
          "dtype": "f4"
         },
         "z": {
          "bdata": "wReSPQ==",
          "dtype": "f4"
         }
        },
        {
         "hovertemplate": "color=police<br>0=%{x}<br>1=%{y}<br>2=%{z}<extra></extra>",
         "legendgroup": "police",
         "marker": {
          "color": "#FECB52",
          "symbol": "circle"
         },
         "mode": "markers",
         "name": "police",
         "scene": "scene",
         "showlegend": true,
         "type": "scatter3d",
         "x": {
          "bdata": "iO1dPQ==",
          "dtype": "f4"
         },
         "y": {
          "bdata": "+oa5PQ==",
          "dtype": "f4"
         },
         "z": {
          "bdata": "RafRPg==",
          "dtype": "f4"
         }
        },
        {
         "hovertemplate": "color=news<br>0=%{x}<br>1=%{y}<br>2=%{z}<extra></extra>",
         "legendgroup": "news",
         "marker": {
          "color": "#636efa",
          "symbol": "circle"
         },
         "mode": "markers",
         "name": "news",
         "scene": "scene",
         "showlegend": true,
         "type": "scatter3d",
         "x": {
          "bdata": "zEFQPg==",
          "dtype": "f4"
         },
         "y": {
          "bdata": "Rlk1Pg==",
          "dtype": "f4"
         },
         "z": {
          "bdata": "ErM3PA==",
          "dtype": "f4"
         }
        },
        {
         "hovertemplate": "color=russian<br>0=%{x}<br>1=%{y}<br>2=%{z}<extra></extra>",
         "legendgroup": "russian",
         "marker": {
          "color": "#EF553B",
          "symbol": "circle"
         },
         "mode": "markers",
         "name": "russian",
         "scene": "scene",
         "showlegend": true,
         "type": "scatter3d",
         "x": {
          "bdata": "H2GhPg==",
          "dtype": "f4"
         },
         "y": {
          "bdata": "o0J4PQ==",
          "dtype": "f4"
         },
         "z": {
          "bdata": "zBppPA==",
          "dtype": "f4"
         }
        },
        {
         "hovertemplate": "color=saying<br>0=%{x}<br>1=%{y}<br>2=%{z}<extra></extra>",
         "legendgroup": "saying",
         "marker": {
          "color": "#00cc96",
          "symbol": "circle"
         },
         "mode": "markers",
         "name": "saying",
         "scene": "scene",
         "showlegend": true,
         "type": "scatter3d",
         "x": {
          "bdata": "he6LPg==",
          "dtype": "f4"
         },
         "y": {
          "bdata": "mnWYPg==",
          "dtype": "f4"
         },
         "z": {
          "bdata": "iLngvQ==",
          "dtype": "f4"
         }
        },
        {
         "hovertemplate": "color=trade<br>0=%{x}<br>1=%{y}<br>2=%{z}<extra></extra>",
         "legendgroup": "trade",
         "marker": {
          "color": "#ab63fa",
          "symbol": "circle"
         },
         "mode": "markers",
         "name": "trade",
         "scene": "scene",
         "showlegend": true,
         "type": "scatter3d",
         "x": {
          "bdata": "ldu/Pg==",
          "dtype": "f4"
         },
         "y": {
          "bdata": "a4PPvQ==",
          "dtype": "f4"
         },
         "z": {
          "bdata": "9SVkvg==",
          "dtype": "f4"
         }
        },
        {
         "hovertemplate": "color=deal<br>0=%{x}<br>1=%{y}<br>2=%{z}<extra></extra>",
         "legendgroup": "deal",
         "marker": {
          "color": "#FFA15A",
          "symbol": "circle"
         },
         "mode": "markers",
         "name": "deal",
         "scene": "scene",
         "showlegend": true,
         "type": "scatter3d",
         "x": {
          "bdata": "LC3QPg==",
          "dtype": "f4"
         },
         "y": {
          "bdata": "uW6BvQ==",
          "dtype": "f4"
         },
         "z": {
          "bdata": "fHY0vg==",
          "dtype": "f4"
         }
        },
        {
         "hovertemplate": "color=iran<br>0=%{x}<br>1=%{y}<br>2=%{z}<extra></extra>",
         "legendgroup": "iran",
         "marker": {
          "color": "#19d3f3",
          "symbol": "circle"
         },
         "mode": "markers",
         "name": "iran",
         "scene": "scene",
         "showlegend": true,
         "type": "scatter3d",
         "x": {
          "bdata": "5dmhPg==",
          "dtype": "f4"
         },
         "y": {
          "bdata": "y3nEPQ==",
          "dtype": "f4"
         },
         "z": {
          "bdata": "mEDUvQ==",
          "dtype": "f4"
         }
        },
        {
         "hovertemplate": "color=policy<br>0=%{x}<br>1=%{y}<br>2=%{z}<extra></extra>",
         "legendgroup": "policy",
         "marker": {
          "color": "#FF6692",
          "symbol": "circle"
         },
         "mode": "markers",
         "name": "policy",
         "scene": "scene",
         "showlegend": true,
         "type": "scatter3d",
         "x": {
          "bdata": "5szpPg==",
          "dtype": "f4"
         },
         "y": {
          "bdata": "OtySPQ==",
          "dtype": "f4"
         },
         "z": {
          "bdata": "cHzFvg==",
          "dtype": "f4"
         }
        },
        {
         "hovertemplate": "color=month<br>0=%{x}<br>1=%{y}<br>2=%{z}<extra></extra>",
         "legendgroup": "month",
         "marker": {
          "color": "#B6E880",
          "symbol": "circle"
         },
         "mode": "markers",
         "name": "month",
         "scene": "scene",
         "showlegend": true,
         "type": "scatter3d",
         "x": {
          "bdata": "AhOGPg==",
          "dtype": "f4"
         },
         "y": {
          "bdata": "Xqr5PA==",
          "dtype": "f4"
         },
         "z": {
          "bdata": "Fgx3PQ==",
          "dtype": "f4"
         }
        },
        {
         "hovertemplate": "color=leader<br>0=%{x}<br>1=%{y}<br>2=%{z}<extra></extra>",
         "legendgroup": "leader",
         "marker": {
          "color": "#FF97FF",
          "symbol": "circle"
         },
         "mode": "markers",
         "name": "leader",
         "scene": "scene",
         "showlegend": true,
         "type": "scatter3d",
         "x": {
          "bdata": "wlvmPQ==",
          "dtype": "f4"
         },
         "y": {
          "bdata": "7PfQPg==",
          "dtype": "f4"
         },
         "z": {
          "bdata": "/94Pvg==",
          "dtype": "f4"
         }
        },
        {
         "hovertemplate": "color=secretary<br>0=%{x}<br>1=%{y}<br>2=%{z}<extra></extra>",
         "legendgroup": "secretary",
         "marker": {
          "color": "#FECB52",
          "symbol": "circle"
         },
         "mode": "markers",
         "name": "secretary",
         "scene": "scene",
         "showlegend": true,
         "type": "scatter3d",
         "x": {
          "bdata": "PMGXPg==",
          "dtype": "f4"
         },
         "y": {
          "bdata": "edy9PQ==",
          "dtype": "f4"
         },
         "z": {
          "bdata": "he97vQ==",
          "dtype": "f4"
         }
        },
        {
         "hovertemplate": "color=three<br>0=%{x}<br>1=%{y}<br>2=%{z}<extra></extra>",
         "legendgroup": "three",
         "marker": {
          "color": "#636efa",
          "symbol": "circle"
         },
         "mode": "markers",
         "name": "three",
         "scene": "scene",
         "showlegend": true,
         "type": "scatter3d",
         "x": {
          "bdata": "xQhVPg==",
          "dtype": "f4"
         },
         "y": {
          "bdata": "eB0uvQ==",
          "dtype": "f4"
         },
         "z": {
          "bdata": "ReyAPg==",
          "dtype": "f4"
         }
        },
        {
         "hovertemplate": "color=general<br>0=%{x}<br>1=%{y}<br>2=%{z}<extra></extra>",
         "legendgroup": "general",
         "marker": {
          "color": "#EF553B",
          "symbol": "circle"
         },
         "mode": "markers",
         "name": "general",
         "scene": "scene",
         "showlegend": true,
         "type": "scatter3d",
         "x": {
          "bdata": "MbKxPg==",
          "dtype": "f4"
         },
         "y": {
          "bdata": "BDahPQ==",
          "dtype": "f4"
         },
         "z": {
          "bdata": "QFfSvA==",
          "dtype": "f4"
         }
        },
        {
         "hovertemplate": "color=public<br>0=%{x}<br>1=%{y}<br>2=%{z}<extra></extra>",
         "legendgroup": "public",
         "marker": {
          "color": "#00cc96",
          "symbol": "circle"
         },
         "mode": "markers",
         "name": "public",
         "scene": "scene",
         "showlegend": true,
         "type": "scatter3d",
         "x": {
          "bdata": "y9iTPg==",
          "dtype": "f4"
         },
         "y": {
          "bdata": "GGgWPQ==",
          "dtype": "f4"
         },
         "z": {
          "bdata": "Y7oUvQ==",
          "dtype": "f4"
         }
        },
        {
         "hovertemplate": "color=city<br>0=%{x}<br>1=%{y}<br>2=%{z}<extra></extra>",
         "legendgroup": "city",
         "marker": {
          "color": "#ab63fa",
          "symbol": "circle"
         },
         "mode": "markers",
         "name": "city",
         "scene": "scene",
         "showlegend": true,
         "type": "scatter3d",
         "x": {
          "bdata": "AEyEOw==",
          "dtype": "f4"
         },
         "y": {
          "bdata": "FgsYvQ==",
          "dtype": "f4"
         },
         "z": {
          "bdata": "Vve2Pg==",
          "dtype": "f4"
         }
        },
        {
         "hovertemplate": "color=make<br>0=%{x}<br>1=%{y}<br>2=%{z}<extra></extra>",
         "legendgroup": "make",
         "marker": {
          "color": "#FFA15A",
          "symbol": "circle"
         },
         "mode": "markers",
         "name": "make",
         "scene": "scene",
         "showlegend": true,
         "type": "scatter3d",
         "x": {
          "bdata": "W5m6Pg==",
          "dtype": "f4"
         },
         "y": {
          "bdata": "wPzZvA==",
          "dtype": "f4"
         },
         "z": {
          "bdata": "+yJHvg==",
          "dtype": "f4"
         }
        },
        {
         "hovertemplate": "color=next<br>0=%{x}<br>1=%{y}<br>2=%{z}<extra></extra>",
         "legendgroup": "next",
         "marker": {
          "color": "#19d3f3",
          "symbol": "circle"
         },
         "mode": "markers",
         "name": "next",
         "scene": "scene",
         "showlegend": true,
         "type": "scatter3d",
         "x": {
          "bdata": "90KlPg==",
          "dtype": "f4"
         },
         "y": {
          "bdata": "OOl+PA==",
          "dtype": "f4"
         },
         "z": {
          "bdata": "9u2TvQ==",
          "dtype": "f4"
         }
        },
        {
         "hovertemplate": "color=nuclear<br>0=%{x}<br>1=%{y}<br>2=%{z}<extra></extra>",
         "legendgroup": "nuclear",
         "marker": {
          "color": "#FF6692",
          "symbol": "circle"
         },
         "mode": "markers",
         "name": "nuclear",
         "scene": "scene",
         "showlegend": true,
         "type": "scatter3d",
         "x": {
          "bdata": "7IyePg==",
          "dtype": "f4"
         },
         "y": {
          "bdata": "NLAKvQ==",
          "dtype": "f4"
         },
         "z": {
          "bdata": "Nls3vg==",
          "dtype": "f4"
         }
        },
        {
         "hovertemplate": "color=countries<br>0=%{x}<br>1=%{y}<br>2=%{z}<extra></extra>",
         "legendgroup": "countries",
         "marker": {
          "color": "#B6E880",
          "symbol": "circle"
         },
         "mode": "markers",
         "name": "countries",
         "scene": "scene",
         "showlegend": true,
         "type": "scatter3d",
         "x": {
          "bdata": "p8ncPg==",
          "dtype": "f4"
         },
         "y": {
          "bdata": "aFEAvg==",
          "dtype": "f4"
         },
         "z": {
          "bdata": "ojPuvQ==",
          "dtype": "f4"
         }
        },
        {
         "hovertemplate": "color=whether<br>0=%{x}<br>1=%{y}<br>2=%{z}<extra></extra>",
         "legendgroup": "whether",
         "marker": {
          "color": "#FF97FF",
          "symbol": "circle"
         },
         "mode": "markers",
         "name": "whether",
         "scene": "scene",
         "showlegend": true,
         "type": "scatter3d",
         "x": {
          "bdata": "I5zwPg==",
          "dtype": "f4"
         },
         "y": {
          "bdata": "pzUHPQ==",
          "dtype": "f4"
         },
         "z": {
          "bdata": "8vYDvg==",
          "dtype": "f4"
         }
        },
        {
         "hovertemplate": "color=take<br>0=%{x}<br>1=%{y}<br>2=%{z}<extra></extra>",
         "legendgroup": "take",
         "marker": {
          "color": "#FECB52",
          "symbol": "circle"
         },
         "mode": "markers",
         "name": "take",
         "scene": "scene",
         "showlegend": true,
         "type": "scatter3d",
         "x": {
          "bdata": "L1rGPg==",
          "dtype": "f4"
         },
         "y": {
          "bdata": "dPZ2PA==",
          "dtype": "f4"
         },
         "z": {
          "bdata": "BJi+vQ==",
          "dtype": "f4"
         }
        }
       ],
       "layout": {
        "legend": {
         "title": {
          "text": "color"
         },
         "tracegroupgap": 0
        },
        "margin": {
         "t": 60
        },
        "scene": {
         "domain": {
          "x": [
           0,
           1
          ],
          "y": [
           0,
           1
          ]
         },
         "xaxis": {
          "title": {
           "text": "0"
          }
         },
         "yaxis": {
          "title": {
           "text": "1"
          }
         },
         "zaxis": {
          "title": {
           "text": "2"
          }
         }
        },
        "template": {
         "data": {
          "bar": [
           {
            "error_x": {
             "color": "#2a3f5f"
            },
            "error_y": {
             "color": "#2a3f5f"
            },
            "marker": {
             "line": {
              "color": "#E5ECF6",
              "width": 0.5
             },
             "pattern": {
              "fillmode": "overlay",
              "size": 10,
              "solidity": 0.2
             }
            },
            "type": "bar"
           }
          ],
          "barpolar": [
           {
            "marker": {
             "line": {
              "color": "#E5ECF6",
              "width": 0.5
             },
             "pattern": {
              "fillmode": "overlay",
              "size": 10,
              "solidity": 0.2
             }
            },
            "type": "barpolar"
           }
          ],
          "carpet": [
           {
            "aaxis": {
             "endlinecolor": "#2a3f5f",
             "gridcolor": "white",
             "linecolor": "white",
             "minorgridcolor": "white",
             "startlinecolor": "#2a3f5f"
            },
            "baxis": {
             "endlinecolor": "#2a3f5f",
             "gridcolor": "white",
             "linecolor": "white",
             "minorgridcolor": "white",
             "startlinecolor": "#2a3f5f"
            },
            "type": "carpet"
           }
          ],
          "choropleth": [
           {
            "colorbar": {
             "outlinewidth": 0,
             "ticks": ""
            },
            "type": "choropleth"
           }
          ],
          "contour": [
           {
            "colorbar": {
             "outlinewidth": 0,
             "ticks": ""
            },
            "colorscale": [
             [
              0,
              "#0d0887"
             ],
             [
              0.1111111111111111,
              "#46039f"
             ],
             [
              0.2222222222222222,
              "#7201a8"
             ],
             [
              0.3333333333333333,
              "#9c179e"
             ],
             [
              0.4444444444444444,
              "#bd3786"
             ],
             [
              0.5555555555555556,
              "#d8576b"
             ],
             [
              0.6666666666666666,
              "#ed7953"
             ],
             [
              0.7777777777777778,
              "#fb9f3a"
             ],
             [
              0.8888888888888888,
              "#fdca26"
             ],
             [
              1,
              "#f0f921"
             ]
            ],
            "type": "contour"
           }
          ],
          "contourcarpet": [
           {
            "colorbar": {
             "outlinewidth": 0,
             "ticks": ""
            },
            "type": "contourcarpet"
           }
          ],
          "heatmap": [
           {
            "colorbar": {
             "outlinewidth": 0,
             "ticks": ""
            },
            "colorscale": [
             [
              0,
              "#0d0887"
             ],
             [
              0.1111111111111111,
              "#46039f"
             ],
             [
              0.2222222222222222,
              "#7201a8"
             ],
             [
              0.3333333333333333,
              "#9c179e"
             ],
             [
              0.4444444444444444,
              "#bd3786"
             ],
             [
              0.5555555555555556,
              "#d8576b"
             ],
             [
              0.6666666666666666,
              "#ed7953"
             ],
             [
              0.7777777777777778,
              "#fb9f3a"
             ],
             [
              0.8888888888888888,
              "#fdca26"
             ],
             [
              1,
              "#f0f921"
             ]
            ],
            "type": "heatmap"
           }
          ],
          "histogram": [
           {
            "marker": {
             "pattern": {
              "fillmode": "overlay",
              "size": 10,
              "solidity": 0.2
             }
            },
            "type": "histogram"
           }
          ],
          "histogram2d": [
           {
            "colorbar": {
             "outlinewidth": 0,
             "ticks": ""
            },
            "colorscale": [
             [
              0,
              "#0d0887"
             ],
             [
              0.1111111111111111,
              "#46039f"
             ],
             [
              0.2222222222222222,
              "#7201a8"
             ],
             [
              0.3333333333333333,
              "#9c179e"
             ],
             [
              0.4444444444444444,
              "#bd3786"
             ],
             [
              0.5555555555555556,
              "#d8576b"
             ],
             [
              0.6666666666666666,
              "#ed7953"
             ],
             [
              0.7777777777777778,
              "#fb9f3a"
             ],
             [
              0.8888888888888888,
              "#fdca26"
             ],
             [
              1,
              "#f0f921"
             ]
            ],
            "type": "histogram2d"
           }
          ],
          "histogram2dcontour": [
           {
            "colorbar": {
             "outlinewidth": 0,
             "ticks": ""
            },
            "colorscale": [
             [
              0,
              "#0d0887"
             ],
             [
              0.1111111111111111,
              "#46039f"
             ],
             [
              0.2222222222222222,
              "#7201a8"
             ],
             [
              0.3333333333333333,
              "#9c179e"
             ],
             [
              0.4444444444444444,
              "#bd3786"
             ],
             [
              0.5555555555555556,
              "#d8576b"
             ],
             [
              0.6666666666666666,
              "#ed7953"
             ],
             [
              0.7777777777777778,
              "#fb9f3a"
             ],
             [
              0.8888888888888888,
              "#fdca26"
             ],
             [
              1,
              "#f0f921"
             ]
            ],
            "type": "histogram2dcontour"
           }
          ],
          "mesh3d": [
           {
            "colorbar": {
             "outlinewidth": 0,
             "ticks": ""
            },
            "type": "mesh3d"
           }
          ],
          "parcoords": [
           {
            "line": {
             "colorbar": {
              "outlinewidth": 0,
              "ticks": ""
             }
            },
            "type": "parcoords"
           }
          ],
          "pie": [
           {
            "automargin": true,
            "type": "pie"
           }
          ],
          "scatter": [
           {
            "fillpattern": {
             "fillmode": "overlay",
             "size": 10,
             "solidity": 0.2
            },
            "type": "scatter"
           }
          ],
          "scatter3d": [
           {
            "line": {
             "colorbar": {
              "outlinewidth": 0,
              "ticks": ""
             }
            },
            "marker": {
             "colorbar": {
              "outlinewidth": 0,
              "ticks": ""
             }
            },
            "type": "scatter3d"
           }
          ],
          "scattercarpet": [
           {
            "marker": {
             "colorbar": {
              "outlinewidth": 0,
              "ticks": ""
             }
            },
            "type": "scattercarpet"
           }
          ],
          "scattergeo": [
           {
            "marker": {
             "colorbar": {
              "outlinewidth": 0,
              "ticks": ""
             }
            },
            "type": "scattergeo"
           }
          ],
          "scattergl": [
           {
            "marker": {
             "colorbar": {
              "outlinewidth": 0,
              "ticks": ""
             }
            },
            "type": "scattergl"
           }
          ],
          "scattermap": [
           {
            "marker": {
             "colorbar": {
              "outlinewidth": 0,
              "ticks": ""
             }
            },
            "type": "scattermap"
           }
          ],
          "scattermapbox": [
           {
            "marker": {
             "colorbar": {
              "outlinewidth": 0,
              "ticks": ""
             }
            },
            "type": "scattermapbox"
           }
          ],
          "scatterpolar": [
           {
            "marker": {
             "colorbar": {
              "outlinewidth": 0,
              "ticks": ""
             }
            },
            "type": "scatterpolar"
           }
          ],
          "scatterpolargl": [
           {
            "marker": {
             "colorbar": {
              "outlinewidth": 0,
              "ticks": ""
             }
            },
            "type": "scatterpolargl"
           }
          ],
          "scatterternary": [
           {
            "marker": {
             "colorbar": {
              "outlinewidth": 0,
              "ticks": ""
             }
            },
            "type": "scatterternary"
           }
          ],
          "surface": [
           {
            "colorbar": {
             "outlinewidth": 0,
             "ticks": ""
            },
            "colorscale": [
             [
              0,
              "#0d0887"
             ],
             [
              0.1111111111111111,
              "#46039f"
             ],
             [
              0.2222222222222222,
              "#7201a8"
             ],
             [
              0.3333333333333333,
              "#9c179e"
             ],
             [
              0.4444444444444444,
              "#bd3786"
             ],
             [
              0.5555555555555556,
              "#d8576b"
             ],
             [
              0.6666666666666666,
              "#ed7953"
             ],
             [
              0.7777777777777778,
              "#fb9f3a"
             ],
             [
              0.8888888888888888,
              "#fdca26"
             ],
             [
              1,
              "#f0f921"
             ]
            ],
            "type": "surface"
           }
          ],
          "table": [
           {
            "cells": {
             "fill": {
              "color": "#EBF0F8"
             },
             "line": {
              "color": "white"
             }
            },
            "header": {
             "fill": {
              "color": "#C8D4E3"
             },
             "line": {
              "color": "white"
             }
            },
            "type": "table"
           }
          ]
         },
         "layout": {
          "annotationdefaults": {
           "arrowcolor": "#2a3f5f",
           "arrowhead": 0,
           "arrowwidth": 1
          },
          "autotypenumbers": "strict",
          "coloraxis": {
           "colorbar": {
            "outlinewidth": 0,
            "ticks": ""
           }
          },
          "colorscale": {
           "diverging": [
            [
             0,
             "#8e0152"
            ],
            [
             0.1,
             "#c51b7d"
            ],
            [
             0.2,
             "#de77ae"
            ],
            [
             0.3,
             "#f1b6da"
            ],
            [
             0.4,
             "#fde0ef"
            ],
            [
             0.5,
             "#f7f7f7"
            ],
            [
             0.6,
             "#e6f5d0"
            ],
            [
             0.7,
             "#b8e186"
            ],
            [
             0.8,
             "#7fbc41"
            ],
            [
             0.9,
             "#4d9221"
            ],
            [
             1,
             "#276419"
            ]
           ],
           "sequential": [
            [
             0,
             "#0d0887"
            ],
            [
             0.1111111111111111,
             "#46039f"
            ],
            [
             0.2222222222222222,
             "#7201a8"
            ],
            [
             0.3333333333333333,
             "#9c179e"
            ],
            [
             0.4444444444444444,
             "#bd3786"
            ],
            [
             0.5555555555555556,
             "#d8576b"
            ],
            [
             0.6666666666666666,
             "#ed7953"
            ],
            [
             0.7777777777777778,
             "#fb9f3a"
            ],
            [
             0.8888888888888888,
             "#fdca26"
            ],
            [
             1,
             "#f0f921"
            ]
           ],
           "sequentialminus": [
            [
             0,
             "#0d0887"
            ],
            [
             0.1111111111111111,
             "#46039f"
            ],
            [
             0.2222222222222222,
             "#7201a8"
            ],
            [
             0.3333333333333333,
             "#9c179e"
            ],
            [
             0.4444444444444444,
             "#bd3786"
            ],
            [
             0.5555555555555556,
             "#d8576b"
            ],
            [
             0.6666666666666666,
             "#ed7953"
            ],
            [
             0.7777777777777778,
             "#fb9f3a"
            ],
            [
             0.8888888888888888,
             "#fdca26"
            ],
            [
             1,
             "#f0f921"
            ]
           ]
          },
          "colorway": [
           "#636efa",
           "#EF553B",
           "#00cc96",
           "#ab63fa",
           "#FFA15A",
           "#19d3f3",
           "#FF6692",
           "#B6E880",
           "#FF97FF",
           "#FECB52"
          ],
          "font": {
           "color": "#2a3f5f"
          },
          "geo": {
           "bgcolor": "white",
           "lakecolor": "white",
           "landcolor": "#E5ECF6",
           "showlakes": true,
           "showland": true,
           "subunitcolor": "white"
          },
          "hoverlabel": {
           "align": "left"
          },
          "hovermode": "closest",
          "mapbox": {
           "style": "light"
          },
          "paper_bgcolor": "white",
          "plot_bgcolor": "#E5ECF6",
          "polar": {
           "angularaxis": {
            "gridcolor": "white",
            "linecolor": "white",
            "ticks": ""
           },
           "bgcolor": "#E5ECF6",
           "radialaxis": {
            "gridcolor": "white",
            "linecolor": "white",
            "ticks": ""
           }
          },
          "scene": {
           "xaxis": {
            "backgroundcolor": "#E5ECF6",
            "gridcolor": "white",
            "gridwidth": 2,
            "linecolor": "white",
            "showbackground": true,
            "ticks": "",
            "zerolinecolor": "white"
           },
           "yaxis": {
            "backgroundcolor": "#E5ECF6",
            "gridcolor": "white",
            "gridwidth": 2,
            "linecolor": "white",
            "showbackground": true,
            "ticks": "",
            "zerolinecolor": "white"
           },
           "zaxis": {
            "backgroundcolor": "#E5ECF6",
            "gridcolor": "white",
            "gridwidth": 2,
            "linecolor": "white",
            "showbackground": true,
            "ticks": "",
            "zerolinecolor": "white"
           }
          },
          "shapedefaults": {
           "line": {
            "color": "#2a3f5f"
           }
          },
          "ternary": {
           "aaxis": {
            "gridcolor": "white",
            "linecolor": "white",
            "ticks": ""
           },
           "baxis": {
            "gridcolor": "white",
            "linecolor": "white",
            "ticks": ""
           },
           "bgcolor": "#E5ECF6",
           "caxis": {
            "gridcolor": "white",
            "linecolor": "white",
            "ticks": ""
           }
          },
          "title": {
           "x": 0.05
          },
          "xaxis": {
           "automargin": true,
           "gridcolor": "white",
           "linecolor": "white",
           "ticks": "",
           "title": {
            "standoff": 15
           },
           "zerolinecolor": "white",
           "zerolinewidth": 2
          },
          "yaxis": {
           "automargin": true,
           "gridcolor": "white",
           "linecolor": "white",
           "ticks": "",
           "title": {
            "standoff": 15
           },
           "zerolinecolor": "white",
           "zerolinewidth": 2
          }
         }
        }
       }
      }
     },
     "metadata": {},
     "output_type": "display_data"
    }
   ],
   "source": [
    "import plotly.express as px\n",
    "fig=px.scatter_3d(X[:100],x=0,y=1,z=2,color=y[:100])\n",
    "fig.show()"
   ]
  }
 ],
 "metadata": {
  "kernelspec": {
   "display_name": "Python 3",
   "language": "python",
   "name": "python3"
  },
  "language_info": {
   "codemirror_mode": {
    "name": "ipython",
    "version": 3
   },
   "file_extension": ".py",
   "mimetype": "text/x-python",
   "name": "python",
   "nbconvert_exporter": "python",
   "pygments_lexer": "ipython3",
   "version": "3.11.8"
  }
 },
 "nbformat": 4,
 "nbformat_minor": 5
}
