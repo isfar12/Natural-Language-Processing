{
 "cells": [
  {
   "cell_type": "code",
   "execution_count": 1,
   "id": "00d161af",
   "metadata": {},
   "outputs": [
    {
     "data": {
      "text/html": [
       "<div>\n",
       "<style scoped>\n",
       "    .dataframe tbody tr th:only-of-type {\n",
       "        vertical-align: middle;\n",
       "    }\n",
       "\n",
       "    .dataframe tbody tr th {\n",
       "        vertical-align: top;\n",
       "    }\n",
       "\n",
       "    .dataframe thead th {\n",
       "        text-align: right;\n",
       "    }\n",
       "</style>\n",
       "<table border=\"1\" class=\"dataframe\">\n",
       "  <thead>\n",
       "    <tr style=\"text-align: right;\">\n",
       "      <th></th>\n",
       "      <th>id</th>\n",
       "      <th>title</th>\n",
       "      <th>original_title</th>\n",
       "      <th>original_language</th>\n",
       "      <th>release_date</th>\n",
       "      <th>vote_average</th>\n",
       "      <th>vote_count</th>\n",
       "      <th>popularity</th>\n",
       "      <th>overview</th>\n",
       "      <th>genre_ids</th>\n",
       "      <th>poster_path</th>\n",
       "      <th>backdrop_path</th>\n",
       "      <th>adult</th>\n",
       "      <th>video</th>\n",
       "    </tr>\n",
       "  </thead>\n",
       "  <tbody>\n",
       "    <tr>\n",
       "      <th>0</th>\n",
       "      <td>278</td>\n",
       "      <td>The Shawshank Redemption</td>\n",
       "      <td>The Shawshank Redemption</td>\n",
       "      <td>en</td>\n",
       "      <td>1994-09-23</td>\n",
       "      <td>8.700</td>\n",
       "      <td>28234</td>\n",
       "      <td>36.1378</td>\n",
       "      <td>Imprisoned in the 1940s for the double murder ...</td>\n",
       "      <td>[18, 80]</td>\n",
       "      <td>/9cqNxx0GxF0bflZmeSMuL5tnGzr.jpg</td>\n",
       "      <td>/zfbjgQE1uSd9wiPTX4VzsLi0rGG.jpg</td>\n",
       "      <td>False</td>\n",
       "      <td>False</td>\n",
       "    </tr>\n",
       "    <tr>\n",
       "      <th>1</th>\n",
       "      <td>238</td>\n",
       "      <td>The Godfather</td>\n",
       "      <td>The Godfather</td>\n",
       "      <td>en</td>\n",
       "      <td>1972-03-14</td>\n",
       "      <td>8.700</td>\n",
       "      <td>21405</td>\n",
       "      <td>47.0623</td>\n",
       "      <td>Spanning the years 1945 to 1955, a chronicle o...</td>\n",
       "      <td>[18, 80]</td>\n",
       "      <td>/3bhkrj58Vtu7enYsRolD1fZdja1.jpg</td>\n",
       "      <td>/tmU7GeKVybMWFButWEGl2M4GeiP.jpg</td>\n",
       "      <td>False</td>\n",
       "      <td>False</td>\n",
       "    </tr>\n",
       "    <tr>\n",
       "      <th>2</th>\n",
       "      <td>240</td>\n",
       "      <td>The Godfather Part II</td>\n",
       "      <td>The Godfather Part II</td>\n",
       "      <td>en</td>\n",
       "      <td>1974-12-20</td>\n",
       "      <td>8.571</td>\n",
       "      <td>12929</td>\n",
       "      <td>15.8259</td>\n",
       "      <td>In the continuing saga of the Corleone crime f...</td>\n",
       "      <td>[18, 80]</td>\n",
       "      <td>/hek3koDUyRQk7FIhPXsa6mT2Zc3.jpg</td>\n",
       "      <td>/kGzFbGhp99zva6oZODW5atUtnqi.jpg</td>\n",
       "      <td>False</td>\n",
       "      <td>False</td>\n",
       "    </tr>\n",
       "    <tr>\n",
       "      <th>3</th>\n",
       "      <td>424</td>\n",
       "      <td>Schindler's List</td>\n",
       "      <td>Schindler's List</td>\n",
       "      <td>en</td>\n",
       "      <td>1993-12-15</td>\n",
       "      <td>8.564</td>\n",
       "      <td>16403</td>\n",
       "      <td>29.5538</td>\n",
       "      <td>The true story of how businessman Oskar Schind...</td>\n",
       "      <td>[18, 36, 10752]</td>\n",
       "      <td>/sF1U4EUQS8YHUYjNl3pMGNIQyr0.jpg</td>\n",
       "      <td>/zb6fM1CX41D9rF9hdgclu0peUmy.jpg</td>\n",
       "      <td>False</td>\n",
       "      <td>False</td>\n",
       "    </tr>\n",
       "    <tr>\n",
       "      <th>4</th>\n",
       "      <td>389</td>\n",
       "      <td>12 Angry Men</td>\n",
       "      <td>12 Angry Men</td>\n",
       "      <td>en</td>\n",
       "      <td>1957-04-10</td>\n",
       "      <td>8.500</td>\n",
       "      <td>9107</td>\n",
       "      <td>19.4644</td>\n",
       "      <td>The defense and the prosecution have rested an...</td>\n",
       "      <td>[18]</td>\n",
       "      <td>/ow3wq89wM8qd5X7hWKxiRfsFf9C.jpg</td>\n",
       "      <td>/bxgTSUenZDHNFerQ1whRKplrMKF.jpg</td>\n",
       "      <td>False</td>\n",
       "      <td>False</td>\n",
       "    </tr>\n",
       "  </tbody>\n",
       "</table>\n",
       "</div>"
      ],
      "text/plain": [
       "    id                     title            original_title original_language  \\\n",
       "0  278  The Shawshank Redemption  The Shawshank Redemption                en   \n",
       "1  238             The Godfather             The Godfather                en   \n",
       "2  240     The Godfather Part II     The Godfather Part II                en   \n",
       "3  424          Schindler's List          Schindler's List                en   \n",
       "4  389              12 Angry Men              12 Angry Men                en   \n",
       "\n",
       "  release_date  vote_average  vote_count  popularity  \\\n",
       "0   1994-09-23         8.700       28234     36.1378   \n",
       "1   1972-03-14         8.700       21405     47.0623   \n",
       "2   1974-12-20         8.571       12929     15.8259   \n",
       "3   1993-12-15         8.564       16403     29.5538   \n",
       "4   1957-04-10         8.500        9107     19.4644   \n",
       "\n",
       "                                            overview        genre_ids  \\\n",
       "0  Imprisoned in the 1940s for the double murder ...         [18, 80]   \n",
       "1  Spanning the years 1945 to 1955, a chronicle o...         [18, 80]   \n",
       "2  In the continuing saga of the Corleone crime f...         [18, 80]   \n",
       "3  The true story of how businessman Oskar Schind...  [18, 36, 10752]   \n",
       "4  The defense and the prosecution have rested an...             [18]   \n",
       "\n",
       "                        poster_path                     backdrop_path  adult  \\\n",
       "0  /9cqNxx0GxF0bflZmeSMuL5tnGzr.jpg  /zfbjgQE1uSd9wiPTX4VzsLi0rGG.jpg  False   \n",
       "1  /3bhkrj58Vtu7enYsRolD1fZdja1.jpg  /tmU7GeKVybMWFButWEGl2M4GeiP.jpg  False   \n",
       "2  /hek3koDUyRQk7FIhPXsa6mT2Zc3.jpg  /kGzFbGhp99zva6oZODW5atUtnqi.jpg  False   \n",
       "3  /sF1U4EUQS8YHUYjNl3pMGNIQyr0.jpg  /zb6fM1CX41D9rF9hdgclu0peUmy.jpg  False   \n",
       "4  /ow3wq89wM8qd5X7hWKxiRfsFf9C.jpg  /bxgTSUenZDHNFerQ1whRKplrMKF.jpg  False   \n",
       "\n",
       "   video  \n",
       "0  False  \n",
       "1  False  \n",
       "2  False  \n",
       "3  False  \n",
       "4  False  "
      ]
     },
     "execution_count": 1,
     "metadata": {},
     "output_type": "execute_result"
    }
   ],
   "source": [
    "import requests\n",
    "import pandas as pd\n",
    "\n",
    "# Replace with your actual URL\n",
    "url = 'https://api.themoviedb.org/3/movie/top_rated?api_key=8265bd1679663a7ea12ac168da84d2e8&language=en-US&page=1'\n",
    "\n",
    "# Fetch data from the URL\n",
    "response = requests.get(url)\n",
    "data = response.json()\n",
    "\n",
    "# Extract movie results\n",
    "movies = data['results']\n",
    "\n",
    "# Define the fields you want in your dataset\n",
    "dataset = []\n",
    "for movie in movies:\n",
    "    dataset.append({\n",
    "        \"id\": movie['id'],\n",
    "        \"title\": movie['title'],\n",
    "        \"original_title\": movie['original_title'],\n",
    "        \"original_language\": movie['original_language'],\n",
    "        \"release_date\": movie['release_date'],\n",
    "        \"vote_average\": movie['vote_average'],\n",
    "        \"vote_count\": movie['vote_count'],\n",
    "        \"popularity\": movie['popularity'],\n",
    "        \"overview\": movie['overview'],\n",
    "        \"genre_ids\": movie['genre_ids'],\n",
    "        \"poster_path\": movie['poster_path'],\n",
    "        \"backdrop_path\": movie['backdrop_path'],\n",
    "        \"adult\": movie['adult'],\n",
    "        \"video\": movie['video']\n",
    "    })\n",
    "\n",
    "# Create a DataFrame\n",
    "df = pd.DataFrame(dataset)\n",
    "df.head()\n"
   ]
  },
  {
   "cell_type": "code",
   "execution_count": 2,
   "id": "b5afd25a",
   "metadata": {},
   "outputs": [
    {
     "data": {
      "text/plain": [
       "0     Imprisoned in the 1940s for the double murder ...\n",
       "1     Spanning the years 1945 to 1955, a chronicle o...\n",
       "2     In the continuing saga of the Corleone crime f...\n",
       "3     The true story of how businessman Oskar Schind...\n",
       "4     The defense and the prosecution have rested an...\n",
       "5     A young girl, Chihiro, becomes trapped in a st...\n",
       "6     Batman raises the stakes in his war on crime. ...\n",
       "7     Raj is a rich, carefree, happy-go-lucky second...\n",
       "8     A supernatural tale set on death row in a Sout...\n",
       "9     All unemployed, Ki-taek's family takes peculia...\n",
       "10    A burger-loving hit man, his philosophical par...\n",
       "11    High schoolers Mitsuha and Taki are complete s...\n",
       "12    As armies mass for a final battle that will de...\n",
       "13    A man with a low IQ has accomplished great thi...\n",
       "14    While the Civil War rages on between the Union...\n",
       "15    A samurai answers a village's request for prot...\n",
       "16    The true story of Henry Hill, a half-Irish, ha...\n",
       "17    The adventures of a group of explorers who mak...\n",
       "18    In the final months of World War II, 14-year-o...\n",
       "19    A touching story of an Italian book seller of ...\n",
       "Name: overview, dtype: object"
      ]
     },
     "execution_count": 2,
     "metadata": {},
     "output_type": "execute_result"
    }
   ],
   "source": [
    "df[\"overview\"]"
   ]
  },
  {
   "cell_type": "code",
   "execution_count": 3,
   "id": "48c8857a",
   "metadata": {},
   "outputs": [],
   "source": [
    "df[\"overview\"]=df[\"overview\"].str.lower()"
   ]
  },
  {
   "cell_type": "code",
   "execution_count": 4,
   "id": "cbbeca94",
   "metadata": {},
   "outputs": [],
   "source": [
    "import string\n",
    "\n",
    "def remove_punctuation(text):\n",
    "    return text.translate(str.maketrans(\"\",\"\",string.punctuation))"
   ]
  },
  {
   "cell_type": "code",
   "execution_count": 5,
   "id": "dd548a87",
   "metadata": {},
   "outputs": [],
   "source": [
    "df[\"overview\"]=df[\"overview\"].apply(remove_punctuation)"
   ]
  },
  {
   "cell_type": "markdown",
   "id": "356d5d9b",
   "metadata": {},
   "source": []
  },
  {
   "cell_type": "code",
   "execution_count": 6,
   "id": "34a4e0e9",
   "metadata": {},
   "outputs": [
    {
     "data": {
      "text/plain": [
       "'in the continuing saga of the corleone crime family a young vito corleone grows up in sicily and in 1910s new york in the 1950s michael corleone attempts to expand the family business into las vegas hollywood and cuba'"
      ]
     },
     "execution_count": 6,
     "metadata": {},
     "output_type": "execute_result"
    }
   ],
   "source": [
    "df[\"overview\"][2]"
   ]
  },
  {
   "cell_type": "code",
   "execution_count": 7,
   "id": "494ba550",
   "metadata": {},
   "outputs": [],
   "source": [
    "from bs4 import BeautifulSoup\n",
    "\n",
    "def remove_html(text):\n",
    "    return BeautifulSoup(text,\"html.parser\").get_text()\n"
   ]
  },
  {
   "cell_type": "code",
   "execution_count": 8,
   "id": "e77e61fe",
   "metadata": {},
   "outputs": [],
   "source": [
    "df[\"overview\"]=df[\"overview\"].apply(remove_html)"
   ]
  },
  {
   "cell_type": "code",
   "execution_count": 9,
   "id": "34a28bfd",
   "metadata": {},
   "outputs": [],
   "source": [
    "import re\n",
    "\n",
    "def remove_urls(text):\n",
    "    url_pattern = re.compile(r'https?://\\S+|www\\.\\S+')\n",
    "    return url_pattern.sub(r'', text)"
   ]
  },
  {
   "cell_type": "code",
   "execution_count": 10,
   "id": "2e6c19f9",
   "metadata": {},
   "outputs": [],
   "source": [
    "df[\"overview\"]=df[\"overview\"].apply(remove_urls)"
   ]
  },
  {
   "cell_type": "code",
   "execution_count": 11,
   "id": "fca7e049",
   "metadata": {},
   "outputs": [],
   "source": [
    "from textblob import TextBlob\n",
    "\n",
    "for i in range(df.shape[0]):\n",
    "    blob=TextBlob(df[\"overview\"][0])\n",
    "    blob.correct()"
   ]
  },
  {
   "cell_type": "code",
   "execution_count": 12,
   "id": "f23f5fb3",
   "metadata": {},
   "outputs": [
    {
     "data": {
      "text/plain": [
       "0     imprisoned in the 1940s for the double murder ...\n",
       "1     spanning the years 1945 to 1955 a chronicle of...\n",
       "2     in the continuing saga of the corleone crime f...\n",
       "3     the true story of how businessman oskar schind...\n",
       "4     the defense and the prosecution have rested an...\n",
       "5     a young girl chihiro becomes trapped in a stra...\n",
       "6     batman raises the stakes in his war on crime w...\n",
       "7     raj is a rich carefree happygolucky second gen...\n",
       "8     a supernatural tale set on death row in a sout...\n",
       "9     all unemployed kitaeks family takes peculiar i...\n",
       "10    a burgerloving hit man his philosophical partn...\n",
       "11    high schoolers mitsuha and taki are complete s...\n",
       "12    as armies mass for a final battle that will de...\n",
       "13    a man with a low iq has accomplished great thi...\n",
       "14    while the civil war rages on between the union...\n",
       "15    a samurai answers a villages request for prote...\n",
       "16    the true story of henry hill a halfirish halfs...\n",
       "17    the adventures of a group of explorers who mak...\n",
       "18    in the final months of world war ii 14yearold ...\n",
       "19    a touching story of an italian book seller of ...\n",
       "Name: overview, dtype: object"
      ]
     },
     "execution_count": 12,
     "metadata": {},
     "output_type": "execute_result"
    }
   ],
   "source": [
    "df[\"overview\"]"
   ]
  },
  {
   "cell_type": "code",
   "execution_count": 13,
   "id": "ef661e2b",
   "metadata": {},
   "outputs": [],
   "source": [
    "from nltk.corpus import stopwords"
   ]
  },
  {
   "cell_type": "code",
   "execution_count": 14,
   "id": "0be6dcc1",
   "metadata": {},
   "outputs": [],
   "source": [
    "def remove_stopwords(text):\n",
    "    new_text=[]\n",
    "    for i in text.split():\n",
    "        if i in stopwords.words(\"english\"):\n",
    "            new_text.append(\"\")\n",
    "        else:\n",
    "            new_text.append(i)\n",
    "\n",
    "    x=new_text[:]\n",
    "    new_text.clear()\n",
    "    return \" \".join(x)\n"
   ]
  },
  {
   "cell_type": "code",
   "execution_count": 15,
   "id": "b45a8918",
   "metadata": {},
   "outputs": [],
   "source": [
    "df[\"overview\"]=df[\"overview\"].apply(remove_stopwords)"
   ]
  },
  {
   "cell_type": "code",
   "execution_count": 19,
   "id": "71fbd68b",
   "metadata": {},
   "outputs": [],
   "source": [
    "from nltk.tokenize import word_tokenize,sent_tokenize\n",
    "import spacy\n",
    "\n",
    "nlp=spacy.load('en_core_web_md')"
   ]
  },
  {
   "cell_type": "code",
   "execution_count": 20,
   "id": "552c2213",
   "metadata": {},
   "outputs": [
    {
     "name": "stdout",
     "output_type": "stream",
     "text": [
      "spanning   years 1945   1955   chronicle    fictional italianamerican corleone crime family   organized crime family patriarch vito corleone barely survives   attempt    life   youngest son michael steps    take care    wouldbe killers launching   campaign   bloody revenge "
     ]
    }
   ],
   "source": [
    "doc1=nlp(df[\"overview\"][1])\n",
    "for i in doc1:\n",
    "    print(i,end=\" \")"
   ]
  },
  {
   "cell_type": "code",
   "execution_count": 24,
   "id": "817b2f8b",
   "metadata": {},
   "outputs": [],
   "source": [
    "from nltk.stem.porter import PorterStemmer\n",
    "\n",
    "stemmer=PorterStemmer()"
   ]
  },
  {
   "cell_type": "code",
   "execution_count": 26,
   "id": "487f5d1c",
   "metadata": {},
   "outputs": [],
   "source": [
    "stemmed=[stemmer.stem(str(i)) for i in doc1]"
   ]
  },
  {
   "cell_type": "code",
   "execution_count": 27,
   "id": "f9ef9062",
   "metadata": {},
   "outputs": [
    {
     "data": {
      "text/plain": [
       "['span',\n",
       " ' ',\n",
       " 'year',\n",
       " '1945',\n",
       " ' ',\n",
       " '1955',\n",
       " ' ',\n",
       " 'chronicl',\n",
       " '  ',\n",
       " 'fiction',\n",
       " 'italianamerican',\n",
       " 'corleon',\n",
       " 'crime',\n",
       " 'famili',\n",
       " ' ',\n",
       " 'organ',\n",
       " 'crime',\n",
       " 'famili',\n",
       " 'patriarch',\n",
       " 'vito',\n",
       " 'corleon',\n",
       " 'bare',\n",
       " 'surviv',\n",
       " ' ',\n",
       " 'attempt',\n",
       " '  ',\n",
       " 'life',\n",
       " ' ',\n",
       " 'youngest',\n",
       " 'son',\n",
       " 'michael',\n",
       " 'step',\n",
       " '  ',\n",
       " 'take',\n",
       " 'care',\n",
       " '  ',\n",
       " 'wouldb',\n",
       " 'killer',\n",
       " 'launch',\n",
       " ' ',\n",
       " 'campaign',\n",
       " ' ',\n",
       " 'bloodi',\n",
       " 'reveng']"
      ]
     },
     "execution_count": 27,
     "metadata": {},
     "output_type": "execute_result"
    }
   ],
   "source": [
    "stemmed"
   ]
  },
  {
   "cell_type": "code",
   "execution_count": 28,
   "id": "055d526a",
   "metadata": {},
   "outputs": [],
   "source": [
    "from nltk.stem import WordNetLemmatizer\n",
    "\n",
    "wordnet=WordNetLemmatizer()\n"
   ]
  },
  {
   "cell_type": "code",
   "execution_count": 36,
   "id": "7cc2332f",
   "metadata": {},
   "outputs": [
    {
     "data": {
      "text/plain": [
       "['span',\n",
       " ' ',\n",
       " 'years',\n",
       " '1945',\n",
       " ' ',\n",
       " '1955',\n",
       " ' ',\n",
       " 'chronicle',\n",
       " '  ',\n",
       " 'fictional',\n",
       " 'italianamerican',\n",
       " 'corleone',\n",
       " 'crime',\n",
       " 'family',\n",
       " ' ',\n",
       " 'organize',\n",
       " 'crime',\n",
       " 'family',\n",
       " 'patriarch',\n",
       " 'vito',\n",
       " 'corleone',\n",
       " 'barely',\n",
       " 'survive',\n",
       " ' ',\n",
       " 'attempt',\n",
       " '  ',\n",
       " 'life',\n",
       " ' ',\n",
       " 'youngest',\n",
       " 'son',\n",
       " 'michael',\n",
       " 'step',\n",
       " '  ',\n",
       " 'take',\n",
       " 'care',\n",
       " '  ',\n",
       " 'wouldbe',\n",
       " 'killers',\n",
       " 'launch',\n",
       " ' ',\n",
       " 'campaign',\n",
       " ' ',\n",
       " 'bloody',\n",
       " 'revenge']"
      ]
     },
     "execution_count": 36,
     "metadata": {},
     "output_type": "execute_result"
    }
   ],
   "source": [
    "verb_lemmatized = [wordnet.lemmatize(str(word), pos=\"v\") for word in doc1]\n",
    "verb_lemmatized"
   ]
  },
  {
   "cell_type": "code",
   "execution_count": null,
   "id": "08fe1c31",
   "metadata": {},
   "outputs": [],
   "source": []
  }
 ],
 "metadata": {
  "kernelspec": {
   "display_name": "Python 3",
   "language": "python",
   "name": "python3"
  },
  "language_info": {
   "codemirror_mode": {
    "name": "ipython",
    "version": 3
   },
   "file_extension": ".py",
   "mimetype": "text/x-python",
   "name": "python",
   "nbconvert_exporter": "python",
   "pygments_lexer": "ipython3",
   "version": "3.11.8"
  }
 },
 "nbformat": 4,
 "nbformat_minor": 5
}
