{
 "cells": [
  {
   "cell_type": "code",
   "execution_count": 2,
   "id": "62ee66b3",
   "metadata": {},
   "outputs": [],
   "source": [
    "import pandas as pd"
   ]
  },
  {
   "cell_type": "code",
   "execution_count": 3,
   "id": "3001a0f9",
   "metadata": {},
   "outputs": [
    {
     "name": "stdout",
     "output_type": "stream",
     "text": [
      "Vocabulary: {'love': 2, 'nlp': 4, 'machine': 3, 'learning': 1, 'and': 0}\n",
      "BoW Matrix:\n",
      " [[0 0 1 0 1]\n",
      " [1 1 1 1 1]]\n"
     ]
    }
   ],
   "source": [
    "from sklearn.feature_extraction.text import CountVectorizer\n",
    "\n",
    "docs = [\"I love NLP\", \"I love machine learning and NLP\"]\n",
    "vectorizer = CountVectorizer()\n",
    "X = vectorizer.fit_transform(docs)\n",
    "\n",
    "print(\"Vocabulary:\", vectorizer.vocabulary_)\n",
    "print(\"BoW Matrix:\\n\", X.toarray())\n"
   ]
  },
  {
   "cell_type": "code",
   "execution_count": 4,
   "id": "66bf66dd",
   "metadata": {},
   "outputs": [
    {
     "name": "stdout",
     "output_type": "stream",
     "text": [
      "Vocabulary with unigrams and bigrams: {'love': 1, 'machine': 4, 'learning': 0, 'love machine': 2, 'machine learning': 5, 'love machine learning': 3}\n",
      "Matrix: [[1 1 1 1 1 1]]\n"
     ]
    }
   ],
   "source": [
    "# Unigrams and Bigrams and Tigrams\n",
    "vectorizer = CountVectorizer(ngram_range=(1,3))\n",
    "X = vectorizer.fit_transform([\"I love machine learning\"])\n",
    "\n",
    "print(\"Vocabulary with unigrams and bigrams:\", vectorizer.vocabulary_)\n",
    "print(\"Matrix:\", X.toarray())\n"
   ]
  },
  {
   "cell_type": "code",
   "execution_count": 5,
   "id": "3d56efc0",
   "metadata": {},
   "outputs": [
    {
     "data": {
      "text/plain": [
       "array([[0.        , 0.33517574, 0.47107781, 0.        , 0.47107781,\n",
       "        0.47107781, 0.        , 0.        , 0.47107781],\n",
       "       [0.47107781, 0.33517574, 0.        , 0.47107781, 0.        ,\n",
       "        0.        , 0.47107781, 0.47107781, 0.        ]])"
      ]
     },
     "execution_count": 5,
     "metadata": {},
     "output_type": "execute_result"
    }
   ],
   "source": [
    "from sklearn.feature_extraction.text import TfidfVectorizer\n",
    "docs=[\"My name is Zubayer Isfar\",\"Learning NLP is really easy!\"]\n",
    "\n",
    "vector=TfidfVectorizer()\n",
    "result=vector.fit_transform(docs)\n",
    "result.toarray()"
   ]
  },
  {
   "cell_type": "code",
   "execution_count": 6,
   "id": "fea7e827",
   "metadata": {},
   "outputs": [],
   "source": [
    "import gensim\n",
    "from gensim.models import Word2Vec,KeyedVectors"
   ]
  },
  {
   "cell_type": "code",
   "execution_count": 8,
   "id": "87b57363",
   "metadata": {},
   "outputs": [],
   "source": [
    "model=KeyedVectors.load_word2vec_format(\"E:\\GoogleNews-vectors-negative300.bin\\GoogleNews-vectors-negative300.bin\",binary=True)"
   ]
  },
  {
   "cell_type": "code",
   "execution_count": 10,
   "id": "668517e4",
   "metadata": {},
   "outputs": [
    {
     "data": {
      "text/plain": [
       "[('woman', 0.7664012908935547),\n",
       " ('boy', 0.6824871301651001),\n",
       " ('teenager', 0.6586930155754089),\n",
       " ('teenage_girl', 0.6147903203964233),\n",
       " ('girl', 0.5921714305877686),\n",
       " ('suspected_purse_snatcher', 0.571636438369751),\n",
       " ('robber', 0.5585119128227234),\n",
       " ('Robbery_suspect', 0.5584409832954407),\n",
       " ('teen_ager', 0.5549196600914001),\n",
       " ('men', 0.5489763021469116)]"
      ]
     },
     "execution_count": 10,
     "metadata": {},
     "output_type": "execute_result"
    }
   ],
   "source": [
    "model.most_similar(\"man\")"
   ]
  },
  {
   "cell_type": "code",
   "execution_count": 12,
   "id": "c7487d82",
   "metadata": {},
   "outputs": [
    {
     "data": {
      "text/plain": [
       "0.76640123"
      ]
     },
     "execution_count": 12,
     "metadata": {},
     "output_type": "execute_result"
    }
   ],
   "source": [
    "model.similarity(\"man\",\"woman\")"
   ]
  },
  {
   "cell_type": "code",
   "execution_count": null,
   "id": "44859722",
   "metadata": {},
   "outputs": [],
   "source": []
  }
 ],
 "metadata": {
  "kernelspec": {
   "display_name": "Python 3",
   "language": "python",
   "name": "python3"
  },
  "language_info": {
   "codemirror_mode": {
    "name": "ipython",
    "version": 3
   },
   "file_extension": ".py",
   "mimetype": "text/x-python",
   "name": "python",
   "nbconvert_exporter": "python",
   "pygments_lexer": "ipython3",
   "version": "3.11.8"
  }
 },
 "nbformat": 4,
 "nbformat_minor": 5
}
